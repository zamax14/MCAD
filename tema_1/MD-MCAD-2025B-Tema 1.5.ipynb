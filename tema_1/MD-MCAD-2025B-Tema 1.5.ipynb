{
 "cells": [
  {
   "cell_type": "markdown",
   "metadata": {},
   "source": [
    "# Validación de un Modelo de Regresión"
   ]
  },
  {
   "cell_type": "code",
   "execution_count": 3,
   "metadata": {},
   "outputs": [],
   "source": [
    "import pandas as pd\n",
    "import numpy as np\n",
    "import matplotlib.pyplot as plt"
   ]
  },
  {
   "cell_type": "code",
   "execution_count": 9,
   "metadata": {},
   "outputs": [
    {
     "data": {
      "text/html": [
       "<div>\n",
       "<style scoped>\n",
       "    .dataframe tbody tr th:only-of-type {\n",
       "        vertical-align: middle;\n",
       "    }\n",
       "\n",
       "    .dataframe tbody tr th {\n",
       "        vertical-align: top;\n",
       "    }\n",
       "\n",
       "    .dataframe thead th {\n",
       "        text-align: right;\n",
       "    }\n",
       "</style>\n",
       "<table border=\"1\" class=\"dataframe\">\n",
       "  <thead>\n",
       "    <tr style=\"text-align: right;\">\n",
       "      <th></th>\n",
       "      <th>TV</th>\n",
       "      <th>Radio</th>\n",
       "      <th>Newspaper</th>\n",
       "      <th>Sales</th>\n",
       "    </tr>\n",
       "  </thead>\n",
       "  <tbody>\n",
       "    <tr>\n",
       "      <th>0</th>\n",
       "      <td>230.1</td>\n",
       "      <td>37.8</td>\n",
       "      <td>69.2</td>\n",
       "      <td>22.1</td>\n",
       "    </tr>\n",
       "    <tr>\n",
       "      <th>1</th>\n",
       "      <td>44.5</td>\n",
       "      <td>39.3</td>\n",
       "      <td>45.1</td>\n",
       "      <td>10.4</td>\n",
       "    </tr>\n",
       "    <tr>\n",
       "      <th>2</th>\n",
       "      <td>17.2</td>\n",
       "      <td>45.9</td>\n",
       "      <td>69.3</td>\n",
       "      <td>9.3</td>\n",
       "    </tr>\n",
       "    <tr>\n",
       "      <th>3</th>\n",
       "      <td>151.5</td>\n",
       "      <td>41.3</td>\n",
       "      <td>58.5</td>\n",
       "      <td>18.5</td>\n",
       "    </tr>\n",
       "    <tr>\n",
       "      <th>4</th>\n",
       "      <td>180.8</td>\n",
       "      <td>10.8</td>\n",
       "      <td>58.4</td>\n",
       "      <td>12.9</td>\n",
       "    </tr>\n",
       "    <tr>\n",
       "      <th>...</th>\n",
       "      <td>...</td>\n",
       "      <td>...</td>\n",
       "      <td>...</td>\n",
       "      <td>...</td>\n",
       "    </tr>\n",
       "    <tr>\n",
       "      <th>195</th>\n",
       "      <td>38.2</td>\n",
       "      <td>3.7</td>\n",
       "      <td>13.8</td>\n",
       "      <td>7.6</td>\n",
       "    </tr>\n",
       "    <tr>\n",
       "      <th>196</th>\n",
       "      <td>94.2</td>\n",
       "      <td>4.9</td>\n",
       "      <td>8.1</td>\n",
       "      <td>9.7</td>\n",
       "    </tr>\n",
       "    <tr>\n",
       "      <th>197</th>\n",
       "      <td>177.0</td>\n",
       "      <td>9.3</td>\n",
       "      <td>6.4</td>\n",
       "      <td>12.8</td>\n",
       "    </tr>\n",
       "    <tr>\n",
       "      <th>198</th>\n",
       "      <td>283.6</td>\n",
       "      <td>42.0</td>\n",
       "      <td>66.2</td>\n",
       "      <td>25.5</td>\n",
       "    </tr>\n",
       "    <tr>\n",
       "      <th>199</th>\n",
       "      <td>232.1</td>\n",
       "      <td>8.6</td>\n",
       "      <td>8.7</td>\n",
       "      <td>13.4</td>\n",
       "    </tr>\n",
       "  </tbody>\n",
       "</table>\n",
       "<p>200 rows × 4 columns</p>\n",
       "</div>"
      ],
      "text/plain": [
       "        TV  Radio  Newspaper  Sales\n",
       "0    230.1   37.8       69.2   22.1\n",
       "1     44.5   39.3       45.1   10.4\n",
       "2     17.2   45.9       69.3    9.3\n",
       "3    151.5   41.3       58.5   18.5\n",
       "4    180.8   10.8       58.4   12.9\n",
       "..     ...    ...        ...    ...\n",
       "195   38.2    3.7       13.8    7.6\n",
       "196   94.2    4.9        8.1    9.7\n",
       "197  177.0    9.3        6.4   12.8\n",
       "198  283.6   42.0       66.2   25.5\n",
       "199  232.1    8.6        8.7   13.4\n",
       "\n",
       "[200 rows x 4 columns]"
      ]
     },
     "execution_count": 9,
     "metadata": {},
     "output_type": "execute_result"
    }
   ],
   "source": [
    "# Carguemos el dataset de \"Advertising.csv\"\n",
    "data = pd.read_csv(\"C:/Users/neosb/Downloads/python-ml-course-master/datasets/ads/Advertising.csv\")\n",
    "data"
   ]
  },
  {
   "cell_type": "markdown",
   "metadata": {},
   "source": [
    "### 1. Crear conjuntos de Entrenamiento (Training) y Prueba (Testing)"
   ]
  },
  {
   "cell_type": "code",
   "execution_count": 10,
   "metadata": {},
   "outputs": [
    {
     "name": "stdout",
     "output_type": "stream",
     "text": [
      "[-0.28119917  1.42174677  0.96341487  1.07419425  0.76674111 -0.33212624\n",
      " -1.40775099 -1.44235338 -0.76276388  1.63433927  1.60946815  0.77631292\n",
      " -1.68227979  0.45663413  0.0869723  -0.46210837  1.2832273   0.19327719\n",
      " -0.78663425  1.46931529  1.1217335   0.07263315  0.17759905 -0.92125215\n",
      " -0.68093079  0.31788437 -0.47172014 -1.24481417 -1.79434003 -0.08077067\n",
      "  1.16546025 -0.83537711 -1.12852237  0.76109722  1.85304283  0.24758782\n",
      " -0.11660657  1.36205005  0.39259063 -0.40129016 -0.37679602 -0.16826655\n",
      " -0.70797659 -0.95729859 -0.14911878 -0.48227976 -0.49781742 -1.62098826\n",
      " -0.17882936 -0.04597317  0.15664366 -0.58198442  0.56490099  0.04469119\n",
      "  0.4644569   0.41534245 -0.60648426 -0.80226502 -0.45397233  0.53207382\n",
      "  1.03525092 -0.43261996 -0.25248481  0.70332304  0.09754414 -0.81172859\n",
      "  0.71679981  1.26903089 -2.37363756 -1.19303589  0.62135158  1.66504307\n",
      "  0.20593835  0.22185878 -0.24599595  1.91570383  0.09673429  0.86375308\n",
      "  0.14476954  0.45755054 -1.03019997  0.89075222  0.47144635 -1.41580126\n",
      "  0.38459339  0.7334036  -0.63534602 -0.0749456   0.17241946 -0.522557\n",
      " -0.72684201 -0.89211995  1.06339852 -1.2693977  -0.97844374 -0.16532754\n",
      "  2.18674572 -0.38530525 -1.10222868 -1.16314071  2.36297159 -0.36250321\n",
      "  1.38076356  0.13524381 -0.43960767  0.44696626 -2.02329707 -0.21330728\n",
      " -0.40205831 -0.859265   -1.24146745  0.85029995 -0.03932361  1.61323611\n",
      "  1.48886654  0.86670903 -1.87153772 -0.03870267  1.27500088  1.50652886\n",
      " -0.0080593   0.20102961 -0.48289717  1.19496095 -1.49176879  0.43652344\n",
      "  0.66770251  0.86775936  0.54255832 -0.43839042  1.29860664 -0.3230893\n",
      " -0.73672346 -0.15240919  0.67202636  0.30985728  3.06695188  0.19777214\n",
      "  0.69112044 -0.84961878 -0.14560592  1.00219078  1.07937763 -0.96113918\n",
      "  2.37447784  0.31262296  1.84720122  0.45062555  0.59861364  0.52755652\n",
      " -1.20489937 -0.10515235  0.39856891 -0.29365827 -0.33591483  0.43089229\n",
      " -1.72935024  0.03926229 -0.02594705  1.42945043  1.09524522 -0.52336957\n",
      "  1.5567661  -1.17548867  1.03558377 -0.40247547  1.00053368  1.08234941\n",
      " -2.86561898  0.02638935 -1.03844117  1.16150575  0.61534999 -0.61940044\n",
      "  0.16904988 -1.06785346 -2.63831408 -0.70222821  0.88475542 -2.06067078\n",
      "  0.78518469 -1.34601049 -0.22769403 -1.78074366  0.36831768  0.94195211\n",
      " -0.7266678  -0.0492845   0.99711458  0.12059464  0.62856631  1.21294501\n",
      "  0.07662764 -0.73644584 -0.79853739 -0.65511136  0.85258646  1.93162726\n",
      "  0.38939616 -0.02897986]\n"
     ]
    },
    {
     "data": {
      "text/plain": [
       "(array([ 3.,  7., 15., 31., 48., 41., 34., 15.,  5.,  1.]),\n",
       " array([-2.86561898, -2.27236189, -1.67910481, -1.08584772, -0.49259063,\n",
       "         0.10066645,  0.69392354,  1.28718062,  1.88043771,  2.4736948 ,\n",
       "         3.06695188]),\n",
       " <BarContainer object of 10 artists>)"
      ]
     },
     "execution_count": 10,
     "metadata": {},
     "output_type": "execute_result"
    },
    {
     "data": {
      "image/png": "[encoded data removed]",
      "text/plain": [
       "<Figure size 432x288 with 1 Axes>"
      ]
     },
     "metadata": {
      "needs_background": "light"
     },
     "output_type": "display_data"
    }
   ],
   "source": [
    "a = np.random.randn(len(data))\n",
    "print(a)\n",
    "plt.hist(a)"
   ]
  },
  {
   "cell_type": "code",
   "execution_count": 11,
   "metadata": {},
   "outputs": [
    {
     "name": "stdout",
     "output_type": "stream",
     "text": [
      "[ True False False False  True  True  True  True  True False False  True\n",
      "  True  True  True  True False  True  True False False  True  True  True\n",
      "  True  True  True  True  True  True False  True  True  True False  True\n",
      "  True False  True  True  True  True  True  True  True  True  True  True\n",
      "  True  True  True  True  True  True  True  True  True  True  True  True\n",
      " False  True  True  True  True  True  True False  True  True  True False\n",
      "  True  True  True False  True False  True  True  True False  True  True\n",
      "  True  True  True  True  True  True  True  True False  True  True  True\n",
      " False  True  True  True False  True False  True  True  True  True  True\n",
      "  True  True  True False  True False False False  True  True False False\n",
      "  True  True  True False  True  True  True False  True  True False  True\n",
      "  True  True  True  True False  True  True  True  True False False  True\n",
      " False  True False  True  True  True  True  True  True  True  True  True\n",
      "  True  True  True False False  True False  True False  True False False\n",
      "  True  True  True False  True  True  True  True  True  True False  True\n",
      "  True  True  True  True  True False  True  True False  True  True False\n",
      "  True  True  True  True False False  True  True]\n"
     ]
    }
   ],
   "source": [
    "check = (a<0.8)\n",
    "print(check)"
   ]
  },
  {
   "cell_type": "code",
   "execution_count": 12,
   "metadata": {},
   "outputs": [
    {
     "name": "stdout",
     "output_type": "stream",
     "text": [
      "No. de datos de Entrenaminto =  152\n",
      "No. de datos de Prueba =  48\n"
     ]
    }
   ],
   "source": [
    "training = data[check]\n",
    "testing = data[~check]\n",
    "print(\"No. de datos de Entrenaminto = \",len(training))\n",
    "print(\"No. de datos de Prueba = \",len(testing))"
   ]
  },
  {
   "cell_type": "markdown",
   "metadata": {},
   "source": [
    "### 2. Construir el modelo de regresión utilizando los datos de entrenamiento\n"
   ]
  },
  {
   "cell_type": "code",
   "execution_count": 13,
   "metadata": {},
   "outputs": [],
   "source": [
    "import statsmodels.formula.api as smf"
   ]
  },
  {
   "cell_type": "code",
   "execution_count": 14,
   "metadata": {},
   "outputs": [
    {
     "data": {
      "text/plain": [
       "Intercept    2.956078\n",
       "TV           0.045309\n",
       "Radio        0.196153\n",
       "Newspaper   -0.000542\n",
       "dtype: float64"
      ]
     },
     "execution_count": 14,
     "metadata": {},
     "output_type": "execute_result"
    }
   ],
   "source": [
    "lm = smf.ols(formula=\"Sales~TV+Radio+Newspaper\", data=training).fit()\n",
    "lm.params"
   ]
  },
  {
   "cell_type": "markdown",
   "metadata": {},
   "source": [
    "### 3. Validar el modelo de regresión mediante los datos de prueba"
   ]
  },
  {
   "cell_type": "code",
   "execution_count": 18,
   "metadata": {},
   "outputs": [
    {
     "name": "stdout",
     "output_type": "stream",
     "text": [
      "1      12.656694\n",
      "2      12.701262\n",
      "3      17.889769\n",
      "9      12.507265\n",
      "10      7.075556\n",
      "16     13.145429\n",
      "19     14.307761\n",
      "20     18.256002\n",
      "30     21.754720\n",
      "34      7.562725\n",
      "37     16.005840\n",
      "60      5.760801\n",
      "67     12.106274\n",
      "71     10.718784\n",
      "75     12.245238\n",
      "77     13.998449\n",
      "81     14.605334\n",
      "92     19.358939\n",
      "96     12.592416\n",
      "100    13.849201\n",
      "102    17.621126\n",
      "111    21.348442\n",
      "113    16.487740\n",
      "114    15.660493\n",
      "115    13.195562\n",
      "118    15.846511\n",
      "119     6.961432\n",
      "123    15.313762\n",
      "127     6.584849\n",
      "130    10.750748\n",
      "136    11.760918\n",
      "141    18.635224\n",
      "142    19.438394\n",
      "144    10.196760\n",
      "146    15.261901\n",
      "159    12.513701\n",
      "160    14.305564\n",
      "162    15.028737\n",
      "164    11.146784\n",
      "166    11.130759\n",
      "167    13.335400\n",
      "171    14.483272\n",
      "178    15.931303\n",
      "185    21.080252\n",
      "188    18.638892\n",
      "191     8.492088\n",
      "196     8.180919\n",
      "197    12.796475\n",
      "dtype: float64\n"
     ]
    }
   ],
   "source": [
    "sales_pred = lm.predict(testing[[\"TV\",\"Radio\",\"Newspaper\"]])\n",
    "print(sales_pred)"
   ]
  },
  {
   "cell_type": "code",
   "execution_count": 19,
   "metadata": {},
   "outputs": [
    {
     "name": "stdout",
     "output_type": "stream",
     "text": [
      "SSD =  215.80635360889582\n",
      "RSE =  2.189907931138739\n"
     ]
    }
   ],
   "source": [
    "# Calcular el valor del \"RSE\" resultante de la validación del modelo\n",
    "k = 2 # Número de Variables Predictoras\n",
    "SSD = np.sum((testing[\"Sales\"]-sales_pred)**2)\n",
    "RSE = np.sqrt(SSD/(len(testing)-k-1))\n",
    "print(\"SSD = \", SSD)\n",
    "print(\"RSE = \", RSE)"
   ]
  },
  {
   "cell_type": "code",
   "execution_count": 20,
   "metadata": {},
   "outputs": [
    {
     "name": "stdout",
     "output_type": "stream",
     "text": [
      "RSE_% =  0.1661381076255089\n"
     ]
    }
   ],
   "source": [
    "# Calcular el \"RSE_%\"\n",
    "RSE_ratio = RSE/np.mean(testing[\"Sales\"])\n",
    "print(\"RSE_% = \", RSE_ratio)"
   ]
  }
 ],
 "metadata": {
  "kernelspec": {
   "display_name": "Python 3",
   "language": "python",
   "name": "python3"
  },
  "language_info": {
   "codemirror_mode": {
    "name": "ipython",
    "version": 3
   },
   "file_extension": ".py",
   "mimetype": "text/x-python",
   "name": "python",
   "nbconvert_exporter": "python",
   "pygments_lexer": "ipython3",
   "version": "3.8.8"
  }
 },
 "nbformat": 4,
 "nbformat_minor": 4
}
