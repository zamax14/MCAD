{
 "cells": [
  {
   "cell_type": "markdown",
   "id": "ade20f51",
   "metadata": {},
   "source": [
    "# El paquete \"statsmodels\" para regresiones lineales simples"
   ]
  },
  {
   "cell_type": "code",
   "execution_count": 1,
   "id": "2d1ae9a6",
   "metadata": {},
   "outputs": [],
   "source": [
    "import pandas as pd\n",
    "import numpy as np\n",
    "import matplotlib.pyplot as plt"
   ]
  },
  {
   "cell_type": "code",
   "execution_count": 2,
   "id": "12a86407",
   "metadata": {},
   "outputs": [
    {
     "data": {
      "text/html": [
       "<div>\n",
       "<style scoped>\n",
       "    .dataframe tbody tr th:only-of-type {\n",
       "        vertical-align: middle;\n",
       "    }\n",
       "\n",
       "    .dataframe tbody tr th {\n",
       "        vertical-align: top;\n",
       "    }\n",
       "\n",
       "    .dataframe thead th {\n",
       "        text-align: right;\n",
       "    }\n",
       "</style>\n",
       "<table border=\"1\" class=\"dataframe\">\n",
       "  <thead>\n",
       "    <tr style=\"text-align: right;\">\n",
       "      <th></th>\n",
       "      <th>TV</th>\n",
       "      <th>Radio</th>\n",
       "      <th>Newspaper</th>\n",
       "      <th>Sales</th>\n",
       "    </tr>\n",
       "  </thead>\n",
       "  <tbody>\n",
       "    <tr>\n",
       "      <th>0</th>\n",
       "      <td>230.1</td>\n",
       "      <td>37.8</td>\n",
       "      <td>69.2</td>\n",
       "      <td>22.1</td>\n",
       "    </tr>\n",
       "    <tr>\n",
       "      <th>1</th>\n",
       "      <td>44.5</td>\n",
       "      <td>39.3</td>\n",
       "      <td>45.1</td>\n",
       "      <td>10.4</td>\n",
       "    </tr>\n",
       "    <tr>\n",
       "      <th>2</th>\n",
       "      <td>17.2</td>\n",
       "      <td>45.9</td>\n",
       "      <td>69.3</td>\n",
       "      <td>9.3</td>\n",
       "    </tr>\n",
       "    <tr>\n",
       "      <th>3</th>\n",
       "      <td>151.5</td>\n",
       "      <td>41.3</td>\n",
       "      <td>58.5</td>\n",
       "      <td>18.5</td>\n",
       "    </tr>\n",
       "    <tr>\n",
       "      <th>4</th>\n",
       "      <td>180.8</td>\n",
       "      <td>10.8</td>\n",
       "      <td>58.4</td>\n",
       "      <td>12.9</td>\n",
       "    </tr>\n",
       "    <tr>\n",
       "      <th>...</th>\n",
       "      <td>...</td>\n",
       "      <td>...</td>\n",
       "      <td>...</td>\n",
       "      <td>...</td>\n",
       "    </tr>\n",
       "    <tr>\n",
       "      <th>195</th>\n",
       "      <td>38.2</td>\n",
       "      <td>3.7</td>\n",
       "      <td>13.8</td>\n",
       "      <td>7.6</td>\n",
       "    </tr>\n",
       "    <tr>\n",
       "      <th>196</th>\n",
       "      <td>94.2</td>\n",
       "      <td>4.9</td>\n",
       "      <td>8.1</td>\n",
       "      <td>9.7</td>\n",
       "    </tr>\n",
       "    <tr>\n",
       "      <th>197</th>\n",
       "      <td>177.0</td>\n",
       "      <td>9.3</td>\n",
       "      <td>6.4</td>\n",
       "      <td>12.8</td>\n",
       "    </tr>\n",
       "    <tr>\n",
       "      <th>198</th>\n",
       "      <td>283.6</td>\n",
       "      <td>42.0</td>\n",
       "      <td>66.2</td>\n",
       "      <td>25.5</td>\n",
       "    </tr>\n",
       "    <tr>\n",
       "      <th>199</th>\n",
       "      <td>232.1</td>\n",
       "      <td>8.6</td>\n",
       "      <td>8.7</td>\n",
       "      <td>13.4</td>\n",
       "    </tr>\n",
       "  </tbody>\n",
       "</table>\n",
       "<p>200 rows × 4 columns</p>\n",
       "</div>"
      ],
      "text/plain": [
       "        TV  Radio  Newspaper  Sales\n",
       "0    230.1   37.8       69.2   22.1\n",
       "1     44.5   39.3       45.1   10.4\n",
       "2     17.2   45.9       69.3    9.3\n",
       "3    151.5   41.3       58.5   18.5\n",
       "4    180.8   10.8       58.4   12.9\n",
       "..     ...    ...        ...    ...\n",
       "195   38.2    3.7       13.8    7.6\n",
       "196   94.2    4.9        8.1    9.7\n",
       "197  177.0    9.3        6.4   12.8\n",
       "198  283.6   42.0       66.2   25.5\n",
       "199  232.1    8.6        8.7   13.4\n",
       "\n",
       "[200 rows x 4 columns]"
      ]
     },
     "execution_count": 2,
     "metadata": {},
     "output_type": "execute_result"
    }
   ],
   "source": [
    "# Carguemos el dataset de \"Advertising.csv\"\n",
    "ads = pd.read_csv(\"C:/Users/neosb/Downloads/python-ml-course-master/datasets/ads/Advertising.csv\")\n",
    "ads"
   ]
  },
  {
   "cell_type": "code",
   "execution_count": 3,
   "id": "3b3868d6",
   "metadata": {},
   "outputs": [],
   "source": [
    "# Importamos del paquete \"statsmodels\" el sub-paquete \"formula.api\"\n",
    "import statsmodels.formula.api as smf"
   ]
  },
  {
   "cell_type": "code",
   "execution_count": 48,
   "id": "5cd42e1d",
   "metadata": {},
   "outputs": [],
   "source": [
    "# OLS = \"Ordinary Least Squares\"\n",
    "lm = smf.ols(formula = \"Sales~TV\" , data = ads).fit()"
   ]
  },
  {
   "cell_type": "code",
   "execution_count": 14,
   "id": "17caf1d8",
   "metadata": {},
   "outputs": [
    {
     "data": {
      "text/plain": [
       "statsmodels.regression.linear_model.RegressionResultsWrapper"
      ]
     },
     "execution_count": 14,
     "metadata": {},
     "output_type": "execute_result"
    }
   ],
   "source": [
    "type(lm)"
   ]
  },
  {
   "cell_type": "code",
   "execution_count": 15,
   "id": "c79c3a64",
   "metadata": {},
   "outputs": [
    {
     "data": {
      "text/plain": [
       "Intercept    7.032594\n",
       "TV           0.047537\n",
       "dtype: float64"
      ]
     },
     "execution_count": 15,
     "metadata": {},
     "output_type": "execute_result"
    }
   ],
   "source": [
    "lm.params"
   ]
  },
  {
   "cell_type": "markdown",
   "id": "cf386c60",
   "metadata": {},
   "source": [
    "* Para el caso de \"Sales~TV\", el modelo de predicción sera:"
   ]
  },
  {
   "cell_type": "markdown",
   "id": "8f5d21dd",
   "metadata": {},
   "source": [
    "<div align=\"center\">\n",
    "\t<font size=4>\n",
    "        $\"Sales\" = 7.032594 + 0.047537\"TV\"$\n",
    "\t<font/>\n",
    "<div/>"
   ]
  },
  {
   "cell_type": "code",
   "execution_count": 16,
   "id": "3074eb23",
   "metadata": {},
   "outputs": [
    {
     "data": {
      "text/plain": [
       "0      230.1\n",
       "1       44.5\n",
       "2       17.2\n",
       "3      151.5\n",
       "4      180.8\n",
       "       ...  \n",
       "195     38.2\n",
       "196     94.2\n",
       "197    177.0\n",
       "198    283.6\n",
       "199    232.1\n",
       "Name: TV, Length: 200, dtype: float64"
      ]
     },
     "execution_count": 16,
     "metadata": {},
     "output_type": "execute_result"
    }
   ],
   "source": [
    "ads[\"TV\"]"
   ]
  },
  {
   "cell_type": "code",
   "execution_count": 17,
   "id": "437c360e",
   "metadata": {},
   "outputs": [
    {
     "data": {
      "text/plain": [
       "0      17.970775\n",
       "1       9.147974\n",
       "2       7.850224\n",
       "3      14.234395\n",
       "4      15.627218\n",
       "         ...    \n",
       "195     8.848493\n",
       "196    11.510545\n",
       "197    15.446579\n",
       "198    20.513985\n",
       "199    18.065848\n",
       "Length: 200, dtype: float64"
      ]
     },
     "execution_count": 17,
     "metadata": {},
     "output_type": "execute_result"
    }
   ],
   "source": [
    "# Utilizar el modelo de regresión generado para predecir el valor de \n",
    "# las ventas respecto a la variable \"TV\"\n",
    "sales_pred = lm.predict(ads[\"TV\"])\n",
    "sales_pred"
   ]
  },
  {
   "cell_type": "code",
   "execution_count": 18,
   "id": "a2c3a6c2",
   "metadata": {},
   "outputs": [
    {
     "data": {
      "text/plain": [
       "Text(0.5, 1.0, 'Publicidad en TV vs Ventas')"
      ]
     },
     "execution_count": 18,
     "metadata": {},
     "output_type": "execute_result"
    },
    {
     "data": {
      "image/png": "[encoded data removed]",
      "text/plain": [
       "<Figure size 432x288 with 1 Axes>"
      ]
     },
     "metadata": {
      "needs_background": "light"
     },
     "output_type": "display_data"
    }
   ],
   "source": [
    "ads.plot(kind = \"scatter\", x = \"TV\", y = \"Sales\")\n",
    "plt.plot(ads[\"TV\"], sales_pred, c=\"red\")\n",
    "plt.title(\"Publicidad en TV vs Ventas\")"
   ]
  },
  {
   "cell_type": "code",
   "execution_count": 19,
   "id": "568bb92f",
   "metadata": {},
   "outputs": [
    {
     "name": "stdout",
     "output_type": "stream",
     "text": [
      "R2 =  0.611875050850071\n"
     ]
    }
   ],
   "source": [
    "print(\"R2 = \", lm.rsquared)"
   ]
  },
  {
   "cell_type": "code",
   "execution_count": 21,
   "id": "ea51496c",
   "metadata": {},
   "outputs": [
    {
     "data": {
      "text/plain": [
       "Intercept    9.311638\n",
       "Radio        0.202496\n",
       "dtype: float64"
      ]
     },
     "execution_count": 21,
     "metadata": {},
     "output_type": "execute_result"
    }
   ],
   "source": [
    "lm2 = smf.ols(formula = \"Sales~Radio\" , data = ads).fit()\n",
    "lm2.params"
   ]
  },
  {
   "cell_type": "code",
   "execution_count": 22,
   "id": "cee7c9ad",
   "metadata": {},
   "outputs": [
    {
     "data": {
      "text/plain": [
       "0      16.965979\n",
       "1      17.269722\n",
       "2      18.606195\n",
       "3      17.674714\n",
       "4      11.498593\n",
       "         ...    \n",
       "195    10.060872\n",
       "196    10.303867\n",
       "197    11.194849\n",
       "198    17.816461\n",
       "199    11.053102\n",
       "Length: 200, dtype: float64"
      ]
     },
     "execution_count": 22,
     "metadata": {},
     "output_type": "execute_result"
    }
   ],
   "source": [
    "s2 = lm2.predict(ads[\"Radio\"])\n",
    "s2"
   ]
  },
  {
   "cell_type": "code",
   "execution_count": 23,
   "id": "5d919b10",
   "metadata": {},
   "outputs": [
    {
     "data": {
      "text/plain": [
       "Text(0.5, 1.0, 'Publicidad en Radio vs Ventas')"
      ]
     },
     "execution_count": 23,
     "metadata": {},
     "output_type": "execute_result"
    },
    {
     "data": {
      "image/png": "[encoded data removed]",
      "text/plain": [
       "<Figure size 432x288 with 1 Axes>"
      ]
     },
     "metadata": {
      "needs_background": "light"
     },
     "output_type": "display_data"
    }
   ],
   "source": [
    "ads.plot(kind = \"scatter\", x = \"Radio\", y = \"Sales\")\n",
    "plt.plot(ads[\"Radio\"], s2, c=\"red\")\n",
    "plt.title(\"Publicidad en Radio vs Ventas\")"
   ]
  },
  {
   "cell_type": "code",
   "execution_count": 24,
   "id": "8f6c47ae",
   "metadata": {},
   "outputs": [
    {
     "name": "stdout",
     "output_type": "stream",
     "text": [
      "R2 =  0.33203245544529525\n"
     ]
    }
   ],
   "source": [
    "print( \"R2 = \", lm2.rsquared)"
   ]
  },
  {
   "cell_type": "code",
   "execution_count": 25,
   "id": "d104b64c",
   "metadata": {},
   "outputs": [
    {
     "name": "stdout",
     "output_type": "stream",
     "text": [
      "R2 =  0.05212044544430516\n"
     ]
    },
    {
     "data": {
      "image/png": "[encoded data removed]",
      "text/plain": [
       "<Figure size 432x288 with 1 Axes>"
      ]
     },
     "metadata": {
      "needs_background": "light"
     },
     "output_type": "display_data"
    }
   ],
   "source": [
    "lm3 = smf.ols(formula = \"Sales~Newspaper\" , data = ads).fit()\n",
    "s3 = lm3.predict(ads[\"Newspaper\"])\n",
    "ads.plot(kind = \"scatter\", x = \"Newspaper\", y = \"Sales\")\n",
    "plt.plot(ads[\"Newspaper\"], s3, c=\"red\")\n",
    "plt.title(\"Publicidad en Periódico vs Ventas\")\n",
    "print( \"R2 = \", lm3.rsquared)"
   ]
  },
  {
   "cell_type": "code",
   "execution_count": 26,
   "id": "7cb60070",
   "metadata": {},
   "outputs": [
    {
     "data": {
      "text/html": [
       "<table class=\"simpletable\">\n",
       "<caption>OLS Regression Results</caption>\n",
       "<tr>\n",
       "  <th>Dep. Variable:</th>          <td>Sales</td>      <th>  R-squared:         </th> <td>   0.612</td>\n",
       "</tr>\n",
       "<tr>\n",
       "  <th>Model:</th>                   <td>OLS</td>       <th>  Adj. R-squared:    </th> <td>   0.610</td>\n",
       "</tr>\n",
       "<tr>\n",
       "  <th>Method:</th>             <td>Least Squares</td>  <th>  F-statistic:       </th> <td>   312.1</td>\n",
       "</tr>\n",
       "<tr>\n",
       "  <th>Date:</th>             <td>Fri, 03 Oct 2025</td> <th>  Prob (F-statistic):</th> <td>1.47e-42</td>\n",
       "</tr>\n",
       "<tr>\n",
       "  <th>Time:</th>                 <td>18:39:08</td>     <th>  Log-Likelihood:    </th> <td> -519.05</td>\n",
       "</tr>\n",
       "<tr>\n",
       "  <th>No. Observations:</th>      <td>   200</td>      <th>  AIC:               </th> <td>   1042.</td>\n",
       "</tr>\n",
       "<tr>\n",
       "  <th>Df Residuals:</th>          <td>   198</td>      <th>  BIC:               </th> <td>   1049.</td>\n",
       "</tr>\n",
       "<tr>\n",
       "  <th>Df Model:</th>              <td>     1</td>      <th>                     </th>     <td> </td>   \n",
       "</tr>\n",
       "<tr>\n",
       "  <th>Covariance Type:</th>      <td>nonrobust</td>    <th>                     </th>     <td> </td>   \n",
       "</tr>\n",
       "</table>\n",
       "<table class=\"simpletable\">\n",
       "<tr>\n",
       "      <td></td>         <th>coef</th>     <th>std err</th>      <th>t</th>      <th>P>|t|</th>  <th>[0.025</th>    <th>0.975]</th>  \n",
       "</tr>\n",
       "<tr>\n",
       "  <th>Intercept</th> <td>    7.0326</td> <td>    0.458</td> <td>   15.360</td> <td> 0.000</td> <td>    6.130</td> <td>    7.935</td>\n",
       "</tr>\n",
       "<tr>\n",
       "  <th>TV</th>        <td>    0.0475</td> <td>    0.003</td> <td>   17.668</td> <td> 0.000</td> <td>    0.042</td> <td>    0.053</td>\n",
       "</tr>\n",
       "</table>\n",
       "<table class=\"simpletable\">\n",
       "<tr>\n",
       "  <th>Omnibus:</th>       <td> 0.531</td> <th>  Durbin-Watson:     </th> <td>   1.935</td>\n",
       "</tr>\n",
       "<tr>\n",
       "  <th>Prob(Omnibus):</th> <td> 0.767</td> <th>  Jarque-Bera (JB):  </th> <td>   0.669</td>\n",
       "</tr>\n",
       "<tr>\n",
       "  <th>Skew:</th>          <td>-0.089</td> <th>  Prob(JB):          </th> <td>   0.716</td>\n",
       "</tr>\n",
       "<tr>\n",
       "  <th>Kurtosis:</th>      <td> 2.779</td> <th>  Cond. No.          </th> <td>    338.</td>\n",
       "</tr>\n",
       "</table><br/><br/>Notes:<br/>[1] Standard Errors assume that the covariance matrix of the errors is correctly specified."
      ],
      "text/plain": [
       "<class 'statsmodels.iolib.summary.Summary'>\n",
       "\"\"\"\n",
       "                            OLS Regression Results                            \n",
       "==============================================================================\n",
       "Dep. Variable:                  Sales   R-squared:                       0.612\n",
       "Model:                            OLS   Adj. R-squared:                  0.610\n",
       "Method:                 Least Squares   F-statistic:                     312.1\n",
       "Date:                Fri, 03 Oct 2025   Prob (F-statistic):           1.47e-42\n",
       "Time:                        18:39:08   Log-Likelihood:                -519.05\n",
       "No. Observations:                 200   AIC:                             1042.\n",
       "Df Residuals:                     198   BIC:                             1049.\n",
       "Df Model:                           1                                         \n",
       "Covariance Type:            nonrobust                                         \n",
       "==============================================================================\n",
       "                 coef    std err          t      P>|t|      [0.025      0.975]\n",
       "------------------------------------------------------------------------------\n",
       "Intercept      7.0326      0.458     15.360      0.000       6.130       7.935\n",
       "TV             0.0475      0.003     17.668      0.000       0.042       0.053\n",
       "==============================================================================\n",
       "Omnibus:                        0.531   Durbin-Watson:                   1.935\n",
       "Prob(Omnibus):                  0.767   Jarque-Bera (JB):                0.669\n",
       "Skew:                          -0.089   Prob(JB):                        0.716\n",
       "Kurtosis:                       2.779   Cond. No.                         338.\n",
       "==============================================================================\n",
       "\n",
       "Notes:\n",
       "[1] Standard Errors assume that the covariance matrix of the errors is correctly specified.\n",
       "\"\"\""
      ]
     },
     "execution_count": 26,
     "metadata": {},
     "output_type": "execute_result"
    }
   ],
   "source": [
    "lm.summary()"
   ]
  },
  {
   "cell_type": "markdown",
   "id": "f0d12ab7",
   "metadata": {},
   "source": [
    "* El **coeficiente de determinación ajustado** ($\\bar{R}^2$ o $R_{adj}^2$) se utiliza en el caso de los modelos de regresión múltiple para ver el grado de intensidad o efectividad que tienen las variables independientes en explicar la variable dependiente. Dicho coeficiente se calcula como:"
   ]
  },
  {
   "cell_type": "markdown",
   "id": "8248a9d3",
   "metadata": {},
   "source": [
    "<div align=\"center\">\n",
    "\t<font size=4>\n",
    "        $\\bar{R}^2 = 1-[\\frac{n-1}{n-k-1}](1-R^2)$\n",
    "\t<font/>\n",
    "<div/>"
   ]
  },
  {
   "cell_type": "code",
   "execution_count": 27,
   "id": "19d75635",
   "metadata": {},
   "outputs": [],
   "source": [
    "lm_multiple = smf.ols(formula = \"Sales~TV+Newspaper\" , data = ads).fit()"
   ]
  },
  {
   "cell_type": "code",
   "execution_count": 28,
   "id": "65bda6b2",
   "metadata": {},
   "outputs": [
    {
     "data": {
      "text/plain": [
       "Intercept    5.774948\n",
       "TV           0.046901\n",
       "Newspaper    0.044219\n",
       "dtype: float64"
      ]
     },
     "execution_count": 28,
     "metadata": {},
     "output_type": "execute_result"
    }
   ],
   "source": [
    "lm_multiple.params"
   ]
  },
  {
   "cell_type": "markdown",
   "id": "adb29829",
   "metadata": {},
   "source": [
    "<div align=\"center\">\n",
    "\t<font size=4>\n",
    "        $\"Sales\" = 5.774948 + 0.046901\"TV\" + 0.044219\"Newspaper\"$\n",
    "\t<font/>\n",
    "<div/>"
   ]
  },
  {
   "cell_type": "code",
   "execution_count": 29,
   "id": "d85cb8ce",
   "metadata": {},
   "outputs": [
    {
     "name": "stdout",
     "output_type": "stream",
     "text": [
      "R2 =  0.6458354938293271\n",
      "R2_adj =  0.6422399150864777\n"
     ]
    }
   ],
   "source": [
    "print(\"R2 = \", lm_multiple.rsquared)\n",
    "print(\"R2_adj = \", lm_multiple.rsquared_adj)"
   ]
  },
  {
   "cell_type": "code",
   "execution_count": 30,
   "id": "483ef6d7",
   "metadata": {},
   "outputs": [
    {
     "data": {
      "text/plain": [
       "Intercept    2.921100\n",
       "TV           0.045755\n",
       "Radio        0.187994\n",
       "dtype: float64"
      ]
     },
     "execution_count": 30,
     "metadata": {},
     "output_type": "execute_result"
    }
   ],
   "source": [
    "lm_multiple2 = smf.ols(formula = \"Sales~TV+Radio\" , data = ads).fit()\n",
    "lm_multiple2.params"
   ]
  },
  {
   "cell_type": "code",
   "execution_count": 31,
   "id": "01f58e7f",
   "metadata": {},
   "outputs": [
    {
     "name": "stdout",
     "output_type": "stream",
     "text": [
      "R2 =  0.8971942610828956\n",
      "R2_adj =  0.8961505479974428\n"
     ]
    }
   ],
   "source": [
    "print(\"R2 = \", lm_multiple2.rsquared)\n",
    "print(\"R2_adj = \", lm_multiple2.rsquared_adj)"
   ]
  },
  {
   "cell_type": "code",
   "execution_count": 35,
   "id": "a66ca6b2",
   "metadata": {},
   "outputs": [
    {
     "data": {
      "text/plain": [
       "Intercept    9.188920\n",
       "Newspaper    0.006644\n",
       "Radio        0.199045\n",
       "dtype: float64"
      ]
     },
     "execution_count": 35,
     "metadata": {},
     "output_type": "execute_result"
    }
   ],
   "source": [
    "lm_multiple3 = smf.ols(formula = \"Sales~Newspaper+Radio\" , data = ads).fit()\n",
    "lm_multiple3.params"
   ]
  },
  {
   "cell_type": "code",
   "execution_count": 36,
   "id": "735a5d29",
   "metadata": {},
   "outputs": [
    {
     "name": "stdout",
     "output_type": "stream",
     "text": [
      "R2 =  0.33270518395032256\n",
      "R2_adj =  0.3259306172899197\n"
     ]
    }
   ],
   "source": [
    "print(\"R2 = \", lm_multiple3.rsquared)\n",
    "print(\"R2_adj = \", lm_multiple3.rsquared_adj)"
   ]
  },
  {
   "cell_type": "code",
   "execution_count": 37,
   "id": "25a8f0b6",
   "metadata": {},
   "outputs": [
    {
     "data": {
      "text/plain": [
       "Intercept    2.938889\n",
       "TV           0.045765\n",
       "Newspaper   -0.001037\n",
       "Radio        0.188530\n",
       "dtype: float64"
      ]
     },
     "execution_count": 37,
     "metadata": {},
     "output_type": "execute_result"
    }
   ],
   "source": [
    "lm_multiple4 = smf.ols(formula = \"Sales~TV+Newspaper+Radio\" , data = ads).fit()\n",
    "lm_multiple4.params"
   ]
  },
  {
   "cell_type": "code",
   "execution_count": 38,
   "id": "fb066267",
   "metadata": {},
   "outputs": [
    {
     "name": "stdout",
     "output_type": "stream",
     "text": [
      "R2 =  0.8972106381789522\n",
      "R2_adj =  0.8956373316204668\n"
     ]
    }
   ],
   "source": [
    "print(\"R2 = \", lm_multiple4.rsquared)\n",
    "print(\"R2_adj = \", lm_multiple4.rsquared_adj)"
   ]
  },
  {
   "cell_type": "code",
   "execution_count": 41,
   "id": "7020c2c6",
   "metadata": {},
   "outputs": [
    {
     "name": "stdout",
     "output_type": "stream",
     "text": [
      "Sales~TV -> 0.611875050850071\n",
      "Sales~TV+Newspaper -> 0.6458354938293271\n",
      "Sales~Newspaper+Radio -> 0.33270518395032256\n",
      "Sales~TV+Radio -> 0.8971942610828956\n",
      "Sales~TV+Radio+Newspaper -> 0.8972106381789522\n"
     ]
    }
   ],
   "source": [
    "print(\"Sales~TV ->\", lm.rsquared) # Sales~TV\n",
    "print(\"Sales~TV+Newspaper ->\", lm_multiple.rsquared) # Sales~TV+Newspaper\n",
    "print(\"Sales~Newspaper+Radio ->\", lm_multiple3.rsquared) # Sales~Newspaper+Radio\n",
    "print(\"Sales~TV+Radio ->\", lm_multiple2.rsquared) # Sales~TV+Radio\n",
    "print(\"Sales~TV+Radio+Newspaper ->\", lm_multiple4.rsquared) # Sales~TV+Radio+Newspaper"
   ]
  },
  {
   "cell_type": "code",
   "execution_count": 42,
   "id": "013be88e",
   "metadata": {},
   "outputs": [],
   "source": [
    "# Calculo del RSE\n",
    "def RSE_rate(lm, X,Y):\n",
    "    Y_e = lm.predict(X)\n",
    "    SSD = np.sum((Y-Y_e)**2)\n",
    "    RSE = np.sqrt(SSD/(len(X)-len(X.columns.values.tolist())-1))\n",
    "    RSE_rate = RSE/np.mean(Y)\n",
    "    return RSE_rate"
   ]
  },
  {
   "cell_type": "code",
   "execution_count": 43,
   "id": "b345909b",
   "metadata": {},
   "outputs": [
    {
     "data": {
      "text/plain": [
       "0.22255089037282122"
      ]
     },
     "execution_count": 43,
     "metadata": {},
     "output_type": "execute_result"
    }
   ],
   "source": [
    "RSE_TV_News = RSE_rate(lm_multiple, ads[[\"TV\",\"Newspaper\"]], ads[\"Sales\"])\n",
    "RSE_TV_News"
   ]
  },
  {
   "cell_type": "code",
   "execution_count": 44,
   "id": "e33480a2",
   "metadata": {},
   "outputs": [
    {
     "data": {
      "text/plain": [
       "0.11990450436855059"
      ]
     },
     "execution_count": 44,
     "metadata": {},
     "output_type": "execute_result"
    }
   ],
   "source": [
    "RSE_TV_Radio = RSE_rate(lm_multiple2, ads[[\"TV\",\"Radio\"]], ads[\"Sales\"])\n",
    "RSE_TV_Radio"
   ]
  },
  {
   "cell_type": "code",
   "execution_count": 45,
   "id": "e5795a39",
   "metadata": {},
   "outputs": [
    {
     "data": {
      "text/plain": [
       "0.3054820485353732"
      ]
     },
     "execution_count": 45,
     "metadata": {},
     "output_type": "execute_result"
    }
   ],
   "source": [
    "RSE_News_Radio = RSE_rate(lm_multiple3, ads[[\"Newspaper\",\"Radio\"]], ads[\"Sales\"])\n",
    "RSE_News_Radio"
   ]
  },
  {
   "cell_type": "code",
   "execution_count": 46,
   "id": "18efaa19",
   "metadata": {},
   "outputs": [
    {
     "data": {
      "text/plain": [
       "0.1202004188564624"
      ]
     },
     "execution_count": 46,
     "metadata": {},
     "output_type": "execute_result"
    }
   ],
   "source": [
    "RSE_TV_Radio_News = RSE_rate(lm_multiple4, ads[[\"TV\",\"Radio\",\"Newspaper\"]], ads[\"Sales\"])\n",
    "RSE_TV_Radio_News"
   ]
  },
  {
   "cell_type": "code",
   "execution_count": null,
   "id": "b50f4a5d",
   "metadata": {},
   "outputs": [],
   "source": []
  }
 ],
 "metadata": {
  "kernelspec": {
   "display_name": "Python 3",
   "language": "python",
   "name": "python3"
  },
  "language_info": {
   "codemirror_mode": {
    "name": "ipython",
    "version": 3
   },
   "file_extension": ".py",
   "mimetype": "text/x-python",
   "name": "python",
   "nbconvert_exporter": "python",
   "pygments_lexer": "ipython3",
   "version": "3.8.8"
  }
 },
 "nbformat": 4,
 "nbformat_minor": 5
}
