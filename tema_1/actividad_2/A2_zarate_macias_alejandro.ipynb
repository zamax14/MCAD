{
 "cells": [
  {
   "cell_type": "markdown",
   "id": "0bce2c6f",
   "metadata": {},
   "source": [
    "# A2 - Validación de un Modelo de Regresión Lineal Múltiple"
   ]
  },
  {
   "cell_type": "markdown",
   "id": "27d93c00",
   "metadata": {},
   "source": [
    "## Instrucciones:\n",
    "Para el dataset de \"auto-mpg.csv\" (disponible en en apartado DATASETS del tema) generar un modelo de regresión lineal múltiple que permita predecir el desempeño en millas por galón (mpg) de algún vehículo, utilizando como variables predictoras cylinders, displacement, horsepower, weight, y acceleration, y validar el modelo generado siguiendo los siguientes criterios:\n",
    "\n",
    "1. Para este ejercicio, deberá particionar el dataset en dos conjuntos (Conjunto de Entrenamiento y de Prueba). La delimitación de estos conjuntos deberá hacerse de manera que no exista sesgo en la elección de sus elementos.\n",
    "\n",
    "2. Utilizar el conjunto de entrenamiento generado para construir el modelo de regresión lineal, tomando nota de los parámetros obtenidos y del valor del coeficiente de determinación (R^2)\n",
    "\n",
    "3. Para hacer la validación del modelo deberá utilizar el conjunto delimitado como datos de prueba, y deberá aplicar la métrica del Error Estándar Residual (RSE) para evaluarlo.\n",
    "\n",
    "4. Finalmente deberá responder las siguientes preguntas:\n",
    "\n",
    "- ¿Qué tan buena es la bondad de ajuste de su modelo de regresión respecto al conjunto de datos de entrenamiento que delimitó?\n",
    "- ¿Qué tan buenas son las predicciones generadas por su modelo de acuerdo a las métricas aplicada para evaluarlo?\n",
    "- De entre las variables utilizadas ¿Cuáles son las tres más importantes para el modelo de regresión propuesto?"
   ]
  },
  {
   "cell_type": "code",
   "execution_count": 1,
   "id": "d8115b2b",
   "metadata": {},
   "outputs": [],
   "source": [
    "import pandas as pd\n",
    "import numpy as np\n",
    "import matplotlib.pyplot as plt\n",
    "from sklearn.linear_model import LinearRegression"
   ]
  },
  {
   "cell_type": "code",
   "execution_count": 2,
   "id": "4ad03321",
   "metadata": {},
   "outputs": [
    {
     "data": {
      "text/html": [
       "<div>\n",
       "<style scoped>\n",
       "    .dataframe tbody tr th:only-of-type {\n",
       "        vertical-align: middle;\n",
       "    }\n",
       "\n",
       "    .dataframe tbody tr th {\n",
       "        vertical-align: top;\n",
       "    }\n",
       "\n",
       "    .dataframe thead th {\n",
       "        text-align: right;\n",
       "    }\n",
       "</style>\n",
       "<table border=\"1\" class=\"dataframe\">\n",
       "  <thead>\n",
       "    <tr style=\"text-align: right;\">\n",
       "      <th></th>\n",
       "      <th>mpg</th>\n",
       "      <th>cylinders</th>\n",
       "      <th>displacement</th>\n",
       "      <th>horsepower</th>\n",
       "      <th>weight</th>\n",
       "      <th>acceleration</th>\n",
       "      <th>model year</th>\n",
       "      <th>origin</th>\n",
       "      <th>car name</th>\n",
       "    </tr>\n",
       "  </thead>\n",
       "  <tbody>\n",
       "    <tr>\n",
       "      <th>0</th>\n",
       "      <td>18.0</td>\n",
       "      <td>8</td>\n",
       "      <td>307.0</td>\n",
       "      <td>130.0</td>\n",
       "      <td>3504</td>\n",
       "      <td>12.0</td>\n",
       "      <td>70</td>\n",
       "      <td>1</td>\n",
       "      <td>chevrolet chevelle malibu</td>\n",
       "    </tr>\n",
       "    <tr>\n",
       "      <th>1</th>\n",
       "      <td>15.0</td>\n",
       "      <td>8</td>\n",
       "      <td>350.0</td>\n",
       "      <td>165.0</td>\n",
       "      <td>3693</td>\n",
       "      <td>11.5</td>\n",
       "      <td>70</td>\n",
       "      <td>1</td>\n",
       "      <td>buick skylark 320</td>\n",
       "    </tr>\n",
       "    <tr>\n",
       "      <th>2</th>\n",
       "      <td>18.0</td>\n",
       "      <td>8</td>\n",
       "      <td>318.0</td>\n",
       "      <td>150.0</td>\n",
       "      <td>3436</td>\n",
       "      <td>11.0</td>\n",
       "      <td>70</td>\n",
       "      <td>1</td>\n",
       "      <td>plymouth satellite</td>\n",
       "    </tr>\n",
       "    <tr>\n",
       "      <th>3</th>\n",
       "      <td>16.0</td>\n",
       "      <td>8</td>\n",
       "      <td>304.0</td>\n",
       "      <td>150.0</td>\n",
       "      <td>3433</td>\n",
       "      <td>12.0</td>\n",
       "      <td>70</td>\n",
       "      <td>1</td>\n",
       "      <td>amc rebel sst</td>\n",
       "    </tr>\n",
       "    <tr>\n",
       "      <th>4</th>\n",
       "      <td>17.0</td>\n",
       "      <td>8</td>\n",
       "      <td>302.0</td>\n",
       "      <td>140.0</td>\n",
       "      <td>3449</td>\n",
       "      <td>10.5</td>\n",
       "      <td>70</td>\n",
       "      <td>1</td>\n",
       "      <td>ford torino</td>\n",
       "    </tr>\n",
       "  </tbody>\n",
       "</table>\n",
       "</div>"
      ],
      "text/plain": [
       "    mpg  cylinders  displacement  horsepower  weight  acceleration  \\\n",
       "0  18.0          8         307.0       130.0    3504          12.0   \n",
       "1  15.0          8         350.0       165.0    3693          11.5   \n",
       "2  18.0          8         318.0       150.0    3436          11.0   \n",
       "3  16.0          8         304.0       150.0    3433          12.0   \n",
       "4  17.0          8         302.0       140.0    3449          10.5   \n",
       "\n",
       "   model year  origin                   car name  \n",
       "0          70       1  chevrolet chevelle malibu  \n",
       "1          70       1          buick skylark 320  \n",
       "2          70       1         plymouth satellite  \n",
       "3          70       1              amc rebel sst  \n",
       "4          70       1                ford torino  "
      ]
     },
     "execution_count": 2,
     "metadata": {},
     "output_type": "execute_result"
    }
   ],
   "source": [
    "df = pd.read_csv(\"../../datasets/auto/auto-mpg.csv\")\n",
    "df.head()"
   ]
  },
  {
   "cell_type": "code",
   "execution_count": 3,
   "id": "90c447c0",
   "metadata": {},
   "outputs": [],
   "source": [
    "df[\"horsepower\"] = df[\"horsepower\"].fillna(df[\"horsepower\"].mean())\n",
    "df[\"mpg\"] = df[\"mpg\"].fillna(df[\"mpg\"].mean())"
   ]
  },
  {
   "cell_type": "code",
   "execution_count": 4,
   "id": "bcbd937f",
   "metadata": {},
   "outputs": [
    {
     "data": {
      "text/plain": [
       "Text(0.5, 1.0, 'HP vs MPG')"
      ]
     },
     "execution_count": 4,
     "metadata": {},
     "output_type": "execute_result"
    },
    {
     "data": {
      "image/png": "[encoded data removed]",
      "text/plain": [
       "<Figure size 640x480 with 1 Axes>"
      ]
     },
     "metadata": {},
     "output_type": "display_data"
    }
   ],
   "source": [
    "%matplotlib inline\n",
    "plt.plot(df[\"horsepower\"], df[\"mpg\"], \"ro\")\n",
    "plt.xlabel(\"Horsepower (HP)\")\n",
    "plt.ylabel(\"Milles Per Gallon (MPG)\")\n",
    "plt.title(\"HP vs MPG\")"
   ]
  },
  {
   "cell_type": "markdown",
   "id": "eeb9e7a4",
   "metadata": {
    "vscode": {
     "languageId": "bat"
    }
   },
   "source": [
    "## Dividir el dataset en train y test"
   ]
  },
  {
   "cell_type": "code",
   "execution_count": 5,
   "id": "ae13ef9b",
   "metadata": {},
   "outputs": [],
   "source": [
    "df_train = df.sample(frac=0.7)\n",
    "df_test = df.drop(df_train.index)"
   ]
  },
  {
   "cell_type": "code",
   "execution_count": 6,
   "id": "17ac6d83",
   "metadata": {},
   "outputs": [],
   "source": [
    "X_train = df_train[[\"cylinders\", \"displacement\", \"horsepower\", \"weight\", \"acceleration\"]]\n",
    "Y_train = df_train[\"mpg\"]\n",
    "\n",
    "X_test = df_test[[\"cylinders\", \"displacement\", \"horsepower\", \"weight\", \"acceleration\"]]\n",
    "Y_test = df_test[\"mpg\"]"
   ]
  },
  {
   "cell_type": "code",
   "execution_count": 7,
   "id": "2da9747e",
   "metadata": {},
   "outputs": [
    {
     "data": {
      "text/plain": [
       "((284, 5), (284,), (122, 5), (122,))"
      ]
     },
     "execution_count": 7,
     "metadata": {},
     "output_type": "execute_result"
    }
   ],
   "source": [
    "X_train.shape, Y_train.shape, X_test.shape, Y_test.shape"
   ]
  },
  {
   "cell_type": "markdown",
   "id": "d989fc83",
   "metadata": {},
   "source": [
    "## Aplicando Regresión Lineal con las variables seleccionadas"
   ]
  },
  {
   "cell_type": "code",
   "execution_count": 8,
   "id": "ec00a360",
   "metadata": {},
   "outputs": [],
   "source": [
    "lm = LinearRegression()\n",
    "lm.fit(X_train,Y_train)\n",
    "Y_pred = lm.predict(X_train)"
   ]
  },
  {
   "cell_type": "code",
   "execution_count": 9,
   "id": "99d409d8",
   "metadata": {},
   "outputs": [
    {
     "data": {
      "text/plain": [
       "0.717547261251574"
      ]
     },
     "execution_count": 9,
     "metadata": {},
     "output_type": "execute_result"
    }
   ],
   "source": [
    "lm.score(X_test,Y_test)"
   ]
  },
  {
   "cell_type": "code",
   "execution_count": 10,
   "id": "631bf1d3",
   "metadata": {},
   "outputs": [],
   "source": [
    "Y_test_pred = lm.predict(X_test)"
   ]
  },
  {
   "cell_type": "code",
   "execution_count": 11,
   "id": "89612ee6",
   "metadata": {},
   "outputs": [
    {
     "name": "stdout",
     "output_type": "stream",
     "text": [
      "SSD =  1947.8937471244258\n",
      "RSE =  4.01226811551526\n",
      "RSE_% =  0.16751204461574487\n"
     ]
    }
   ],
   "source": [
    "# Calcular SSD y RSE\n",
    "SSD = np.sum((Y_test-Y_test_pred)**2)\n",
    "RSE = np.sqrt(SSD/(len(X_test)-1))\n",
    "# Calcular RSE_%\n",
    "y_mean = np.mean(Y_test)\n",
    "RSE_rate = RSE/y_mean\n",
    "print(\"SSD = \",SSD)\n",
    "print(\"RSE = \",RSE)\n",
    "print(\"RSE_% = \",RSE_rate)"
   ]
  },
  {
   "cell_type": "markdown",
   "id": "1cf4c199",
   "metadata": {},
   "source": [
    "## Matriz de correlación para selección de variables"
   ]
  },
  {
   "cell_type": "code",
   "execution_count": 12,
   "id": "7db79ac9",
   "metadata": {},
   "outputs": [
    {
     "data": {
      "text/html": [
       "<div>\n",
       "<style scoped>\n",
       "    .dataframe tbody tr th:only-of-type {\n",
       "        vertical-align: middle;\n",
       "    }\n",
       "\n",
       "    .dataframe tbody tr th {\n",
       "        vertical-align: top;\n",
       "    }\n",
       "\n",
       "    .dataframe thead th {\n",
       "        text-align: right;\n",
       "    }\n",
       "</style>\n",
       "<table border=\"1\" class=\"dataframe\">\n",
       "  <thead>\n",
       "    <tr style=\"text-align: right;\">\n",
       "      <th></th>\n",
       "      <th>cylinders</th>\n",
       "      <th>displacement</th>\n",
       "      <th>horsepower</th>\n",
       "      <th>weight</th>\n",
       "      <th>acceleration</th>\n",
       "      <th>mpg</th>\n",
       "    </tr>\n",
       "  </thead>\n",
       "  <tbody>\n",
       "    <tr>\n",
       "      <th>cylinders</th>\n",
       "      <td>1.000000</td>\n",
       "      <td>0.951787</td>\n",
       "      <td>0.840140</td>\n",
       "      <td>0.895220</td>\n",
       "      <td>-0.522452</td>\n",
       "      <td>-0.762698</td>\n",
       "    </tr>\n",
       "    <tr>\n",
       "      <th>displacement</th>\n",
       "      <td>0.951787</td>\n",
       "      <td>1.000000</td>\n",
       "      <td>0.894719</td>\n",
       "      <td>0.932475</td>\n",
       "      <td>-0.557984</td>\n",
       "      <td>-0.791268</td>\n",
       "    </tr>\n",
       "    <tr>\n",
       "      <th>horsepower</th>\n",
       "      <td>0.840140</td>\n",
       "      <td>0.894719</td>\n",
       "      <td>1.000000</td>\n",
       "      <td>0.862617</td>\n",
       "      <td>-0.692274</td>\n",
       "      <td>-0.758059</td>\n",
       "    </tr>\n",
       "    <tr>\n",
       "      <th>weight</th>\n",
       "      <td>0.895220</td>\n",
       "      <td>0.932475</td>\n",
       "      <td>0.862617</td>\n",
       "      <td>1.000000</td>\n",
       "      <td>-0.430086</td>\n",
       "      <td>-0.823327</td>\n",
       "    </tr>\n",
       "    <tr>\n",
       "      <th>acceleration</th>\n",
       "      <td>-0.522452</td>\n",
       "      <td>-0.557984</td>\n",
       "      <td>-0.692274</td>\n",
       "      <td>-0.430086</td>\n",
       "      <td>1.000000</td>\n",
       "      <td>0.409338</td>\n",
       "    </tr>\n",
       "    <tr>\n",
       "      <th>mpg</th>\n",
       "      <td>-0.762698</td>\n",
       "      <td>-0.791268</td>\n",
       "      <td>-0.758059</td>\n",
       "      <td>-0.823327</td>\n",
       "      <td>0.409338</td>\n",
       "      <td>1.000000</td>\n",
       "    </tr>\n",
       "  </tbody>\n",
       "</table>\n",
       "</div>"
      ],
      "text/plain": [
       "              cylinders  displacement  horsepower    weight  acceleration  \\\n",
       "cylinders      1.000000      0.951787    0.840140  0.895220     -0.522452   \n",
       "displacement   0.951787      1.000000    0.894719  0.932475     -0.557984   \n",
       "horsepower     0.840140      0.894719    1.000000  0.862617     -0.692274   \n",
       "weight         0.895220      0.932475    0.862617  1.000000     -0.430086   \n",
       "acceleration  -0.522452     -0.557984   -0.692274 -0.430086      1.000000   \n",
       "mpg           -0.762698     -0.791268   -0.758059 -0.823327      0.409338   \n",
       "\n",
       "                   mpg  \n",
       "cylinders    -0.762698  \n",
       "displacement -0.791268  \n",
       "horsepower   -0.758059  \n",
       "weight       -0.823327  \n",
       "acceleration  0.409338  \n",
       "mpg           1.000000  "
      ]
     },
     "execution_count": 12,
     "metadata": {},
     "output_type": "execute_result"
    }
   ],
   "source": [
    "df[[\"cylinders\", \"displacement\", \"horsepower\", \"weight\", \"acceleration\", \"mpg\"]].corr()"
   ]
  },
  {
   "cell_type": "code",
   "execution_count": 13,
   "id": "4a52b41e",
   "metadata": {},
   "outputs": [],
   "source": [
    "columns = [\"cylinders\", \"displacement\", \"horsepower\", \"weight\", \"acceleration\"]"
   ]
  },
  {
   "cell_type": "code",
   "execution_count": 14,
   "id": "b8d8d84c",
   "metadata": {},
   "outputs": [
    {
     "name": "stdout",
     "output_type": "stream",
     "text": [
      "Using only cylinders, R^2: 0.5610789777488763\n",
      "Using only displacement, R^2: 0.6034623994799775\n",
      "Using only horsepower, R^2: 0.5623963076685169\n",
      "Using only weight, R^2: 0.6623826782140168\n",
      "Using only acceleration, R^2: 0.1709331793401122\n"
     ]
    }
   ],
   "source": [
    "# Prueba de modelo columna por columna\n",
    "for col in columns:\n",
    "    X = X_train[[col]]\n",
    "    Y = Y_train\n",
    "    lm = LinearRegression()\n",
    "    lm.fit(X,Y)\n",
    "    score = lm.score(X,Y)\n",
    "    print(f\"Using only {col}, R^2: {score}\")"
   ]
  },
  {
   "cell_type": "markdown",
   "id": "89999396",
   "metadata": {},
   "source": [
    "## Probando solo con Cylinders, Displacement y Weight"
   ]
  },
  {
   "cell_type": "code",
   "execution_count": 15,
   "id": "cc355c00",
   "metadata": {},
   "outputs": [],
   "source": [
    "X_train = df_train[[\"cylinders\", \"displacement\", \"weight\"]]\n",
    "Y_train = df_train[\"mpg\"]\n",
    "\n",
    "X_test = df_test[[\"cylinders\", \"displacement\", \"weight\"]]\n",
    "Y_test = df_test[\"mpg\"]"
   ]
  },
  {
   "cell_type": "code",
   "execution_count": 16,
   "id": "50f19061",
   "metadata": {},
   "outputs": [],
   "source": [
    "lm = LinearRegression()\n",
    "lm.fit(X_train,Y_train)\n",
    "Y_pred = lm.predict(X_train)"
   ]
  },
  {
   "cell_type": "code",
   "execution_count": 17,
   "id": "9eeb5662",
   "metadata": {},
   "outputs": [
    {
     "data": {
      "text/plain": [
       "0.721616420274449"
      ]
     },
     "execution_count": 17,
     "metadata": {},
     "output_type": "execute_result"
    }
   ],
   "source": [
    "lm.score(X_test,Y_test)"
   ]
  },
  {
   "cell_type": "code",
   "execution_count": 18,
   "id": "299b0bec",
   "metadata": {},
   "outputs": [],
   "source": [
    "Y_test_pred = lm.predict(X_test)"
   ]
  },
  {
   "cell_type": "code",
   "execution_count": 19,
   "id": "3c15dc8c",
   "metadata": {},
   "outputs": [
    {
     "name": "stdout",
     "output_type": "stream",
     "text": [
      "SSD =  1919.8313907392994\n",
      "RSE =  3.9832618706377882\n",
      "RSE_% =  0.1663010349707859\n"
     ]
    }
   ],
   "source": [
    "# Calcular SSD y RSE\n",
    "SSD = np.sum((Y_test-Y_test_pred)**2)\n",
    "RSE = np.sqrt(SSD/(len(X_test)-1))\n",
    "# Calcular RSE_%\n",
    "y_mean = np.mean(Y_test)\n",
    "RSE_rate = RSE/y_mean\n",
    "print(\"SSD = \",SSD)\n",
    "print(\"RSE = \",RSE)\n",
    "print(\"RSE_% = \",RSE_rate)"
   ]
  },
  {
   "cell_type": "markdown",
   "id": "d280c54e",
   "metadata": {},
   "source": [
    "## Respuesta a las preguntas\n",
    "\n",
    "- ¿Qué tan buena es la bondad de ajuste de su modelo de regresión respecto al conjunto de datos de entrenamiento que delimitó?\n",
    "\n",
    "\n",
    "- ¿Qué tan buenas son las predicciones generadas por su modelo de acuerdo a las métricas aplicada para evaluarlo?\n",
    "\n",
    "\n",
    "- De entre las variables utilizadas ¿Cuáles son las tres más importantes para el modelo de regresión propuesto?"
   ]
  }
 ],
 "metadata": {
  "kernelspec": {
   "display_name": "stats",
   "language": "python",
   "name": "python3"
  },
  "language_info": {
   "codemirror_mode": {
    "name": "ipython",
    "version": 3
   },
   "file_extension": ".py",
   "mimetype": "text/x-python",
   "name": "python",
   "nbconvert_exporter": "python",
   "pygments_lexer": "ipython3",
   "version": "3.12.9"
  }
 },
 "nbformat": 4,
 "nbformat_minor": 5
}
