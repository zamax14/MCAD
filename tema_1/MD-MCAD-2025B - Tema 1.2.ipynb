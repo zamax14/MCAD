{
 "cells": [
  {
   "cell_type": "markdown",
   "metadata": {},
   "source": [
    "# Modelos de Regresión Lineal"
   ]
  },
  {
   "cell_type": "markdown",
   "metadata": {},
   "source": [
    "## A. Modelo con datos simulados"
   ]
  },
  {
   "cell_type": "code",
   "execution_count": 66,
   "metadata": {},
   "outputs": [],
   "source": [
    "import pandas as pd\n",
    "import numpy as np\n",
    "import matplotlib.pyplot as plt\n",
    "from IPython.display import Image"
   ]
  },
  {
   "cell_type": "code",
   "execution_count": 67,
   "metadata": {},
   "outputs": [],
   "source": [
    "# Generemos un conjunto \"X\" de 100 valores distribuidos según N(1.5,2.5)\n",
    "n = 100\n",
    "X_mu = 1.5\n",
    "X_sigma = 2.5 \n",
    "X = X_sigma*np.random.randn(n) + X_mu"
   ]
  },
  {
   "cell_type": "code",
   "execution_count": 86,
   "metadata": {},
   "outputs": [],
   "source": [
    "# Generemos también un conjunto de perturbaciones \"res\" distribuidos según N(0,0.8)\n",
    "res_mu = 0.0\n",
    "res_sigma = 0.0\n",
    "res = res_mu + res_sigma*np.random.randn(n)\n",
    "#res = np.random.uniform(0,0.8, n)"
   ]
  },
  {
   "cell_type": "code",
   "execution_count": 87,
   "metadata": {},
   "outputs": [],
   "source": [
    "# Representemos un modelo de predicción lineal hipotético, con coeficientes alpha = 5.0 y beta = 1.9\n",
    "alpha = 5.0\n",
    "beta = 1.9\n",
    "Y_e = alpha + beta*X"
   ]
  },
  {
   "cell_type": "code",
   "execution_count": 88,
   "metadata": {},
   "outputs": [],
   "source": [
    "# Finalmente, representemos el modelo \"real\" considerando ahora las perturbaciones \"res\"\n",
    "Y = alpha + beta*X + res"
   ]
  },
  {
   "cell_type": "code",
   "execution_count": 89,
   "metadata": {},
   "outputs": [
    {
     "data": {
      "text/html": [
       "<div>\n",
       "<style scoped>\n",
       "    .dataframe tbody tr th:only-of-type {\n",
       "        vertical-align: middle;\n",
       "    }\n",
       "\n",
       "    .dataframe tbody tr th {\n",
       "        vertical-align: top;\n",
       "    }\n",
       "\n",
       "    .dataframe thead th {\n",
       "        text-align: right;\n",
       "    }\n",
       "</style>\n",
       "<table border=\"1\" class=\"dataframe\">\n",
       "  <thead>\n",
       "    <tr style=\"text-align: right;\">\n",
       "      <th></th>\n",
       "      <th>X</th>\n",
       "      <th>Y (observación)</th>\n",
       "      <th>Y_e (predicción)</th>\n",
       "    </tr>\n",
       "  </thead>\n",
       "  <tbody>\n",
       "    <tr>\n",
       "      <th>0</th>\n",
       "      <td>-2.611964</td>\n",
       "      <td>0.037269</td>\n",
       "      <td>0.037269</td>\n",
       "    </tr>\n",
       "    <tr>\n",
       "      <th>1</th>\n",
       "      <td>0.688124</td>\n",
       "      <td>6.307436</td>\n",
       "      <td>6.307436</td>\n",
       "    </tr>\n",
       "    <tr>\n",
       "      <th>2</th>\n",
       "      <td>4.045319</td>\n",
       "      <td>12.686106</td>\n",
       "      <td>12.686106</td>\n",
       "    </tr>\n",
       "    <tr>\n",
       "      <th>3</th>\n",
       "      <td>-1.608648</td>\n",
       "      <td>1.943569</td>\n",
       "      <td>1.943569</td>\n",
       "    </tr>\n",
       "    <tr>\n",
       "      <th>4</th>\n",
       "      <td>-1.828457</td>\n",
       "      <td>1.525932</td>\n",
       "      <td>1.525932</td>\n",
       "    </tr>\n",
       "    <tr>\n",
       "      <th>...</th>\n",
       "      <td>...</td>\n",
       "      <td>...</td>\n",
       "      <td>...</td>\n",
       "    </tr>\n",
       "    <tr>\n",
       "      <th>95</th>\n",
       "      <td>-1.611205</td>\n",
       "      <td>1.938710</td>\n",
       "      <td>1.938710</td>\n",
       "    </tr>\n",
       "    <tr>\n",
       "      <th>96</th>\n",
       "      <td>-0.876530</td>\n",
       "      <td>3.334593</td>\n",
       "      <td>3.334593</td>\n",
       "    </tr>\n",
       "    <tr>\n",
       "      <th>97</th>\n",
       "      <td>-1.743794</td>\n",
       "      <td>1.686791</td>\n",
       "      <td>1.686791</td>\n",
       "    </tr>\n",
       "    <tr>\n",
       "      <th>98</th>\n",
       "      <td>3.159960</td>\n",
       "      <td>11.003924</td>\n",
       "      <td>11.003924</td>\n",
       "    </tr>\n",
       "    <tr>\n",
       "      <th>99</th>\n",
       "      <td>2.930653</td>\n",
       "      <td>10.568241</td>\n",
       "      <td>10.568241</td>\n",
       "    </tr>\n",
       "  </tbody>\n",
       "</table>\n",
       "<p>100 rows × 3 columns</p>\n",
       "</div>"
      ],
      "text/plain": [
       "           X  Y (observación)  Y_e (predicción)\n",
       "0  -2.611964         0.037269          0.037269\n",
       "1   0.688124         6.307436          6.307436\n",
       "2   4.045319        12.686106         12.686106\n",
       "3  -1.608648         1.943569          1.943569\n",
       "4  -1.828457         1.525932          1.525932\n",
       "..       ...              ...               ...\n",
       "95 -1.611205         1.938710          1.938710\n",
       "96 -0.876530         3.334593          3.334593\n",
       "97 -1.743794         1.686791          1.686791\n",
       "98  3.159960        11.003924         11.003924\n",
       "99  2.930653        10.568241         10.568241\n",
       "\n",
       "[100 rows x 3 columns]"
      ]
     },
     "execution_count": 89,
     "metadata": {},
     "output_type": "execute_result"
    }
   ],
   "source": [
    "# Utilizando la información previa, construyamos un dataframe\n",
    "data = pd.DataFrame(\n",
    "    {\n",
    "        \"X\": X.tolist(),\n",
    "        \"Y (observación)\": Y.tolist(),\n",
    "        \"Y_e (predicción)\": Y_e.tolist()\n",
    "    }\n",
    ")\n",
    "data"
   ]
  },
  {
   "cell_type": "code",
   "execution_count": 90,
   "metadata": {},
   "outputs": [
    {
     "data": {
      "text/plain": [
       "(Text(0.5, 0, 'X'), Text(0, 0.5, 'Y'))"
      ]
     },
     "execution_count": 90,
     "metadata": {},
     "output_type": "execute_result"
    },
    {
     "data": {
      "image/png": "[encoded data removed]",
      "text/plain": [
       "<Figure size 432x288 with 1 Axes>"
      ]
     },
     "metadata": {
      "needs_background": "light"
     },
     "output_type": "display_data"
    }
   ],
   "source": [
    "# Generemos la gráfica de los datos y del modelo de predicción\n",
    "%matplotlib inline\n",
    "plt.plot(X,Y_e)\n",
    "plt.plot(X,Y,\"ro\")\n",
    "Y_mean_lin = [np.mean(Y) for i in range (1, len(X) +1)]\n",
    "plt.plot(X,Y_mean_lin,\"g\")\n",
    "plt.title(\"Observaciones vs Predicción\")\n",
    "plt.xlabel(\"X\"), plt.ylabel(\"Y\")"
   ]
  },
  {
   "cell_type": "markdown",
   "metadata": {},
   "source": [
    "## B. Evaluación del ajuste de una regresión lineal.\n",
    "* Para poder evaluar que tan bueno es un modelo de regresión lineal, es importante analizarlo con respecto a tres estadísticos específicos:"
   ]
  },
  {
   "cell_type": "markdown",
   "metadata": {},
   "source": [
    "* **Total de Sumas de Cuadrados (SST)**: este indica la suma de las diferencias cuadradas entre la variable dependiente *observada* $y_i$y su respectiva *media* $\\bar{y}$. En otras palabras, este estadístico es una medida de la variabilidad total del conjunto de datos:"
   ]
  },
  {
   "cell_type": "markdown",
   "metadata": {},
   "source": [
    "<div align=\"center\">\n",
    "\t<font size=5>\n",
    "        $SST=\\sum_{i=1}^n{(y_i-\\bar{y})^2}$\n",
    "\t<font/>\n",
    "<div/>"
   ]
  },
  {
   "cell_type": "markdown",
   "metadata": {},
   "source": [
    "* **Suma de Cuadrados debida a la Regresion (SSR)**: representa la suma de las diferencias cuadradas entre la variable dependiente *predecida* '$\\hat{y_i}$' y la media de las observaciones $\\bar{y}$. Esta medida describe que tan bién la linea de regresión se ajusta a los datos (mide la variabilidad explicada por la linea de regresión):"
   ]
  },
  {
   "cell_type": "markdown",
   "metadata": {},
   "source": [
    "<div align=\"center\">\n",
    "\t<font size=5>\n",
    "        $SSR=\\sum_{i=1}^n{(\\hat{y_i}-\\bar{y})^2}$\n",
    "\t<font/>\n",
    "<div/>"
   ]
  },
  {
   "cell_type": "markdown",
   "metadata": {},
   "source": [
    "* **Suma de Diferencias Cuadrados (SSD)**: esta medida representa la sumatoria de las diferencias cuadradas entre los valores *observados* y *predecidos* $y_i$ y $\\hat{y_i}$, respectivamente (mide la variabilidad que no puede ser explicada por el modelo de regresión)."
   ]
  },
  {
   "cell_type": "markdown",
   "metadata": {},
   "source": [
    "<div align=\"center\">\n",
    "\t<font size=5>\n",
    "        $SSD=\\sum_{i=1}^n{(y_i-\\hat{y_i})^2}$\n",
    "\t<font/>\n",
    "<div/>"
   ]
  },
  {
   "cell_type": "markdown",
   "metadata": {},
   "source": [
    "* Por su parte, es facil demostrar que la $SST$ es equivalente a la sumatoria de la $SSR$ y la $SSD$, es decir:"
   ]
  },
  {
   "cell_type": "markdown",
   "metadata": {},
   "source": [
    "<div align=\"center\">\n",
    "\t<font size=5>\n",
    "        $SST=SSR+SSD$\n",
    "\t<font/>\n",
    "<div/>"
   ]
  },
  {
   "cell_type": "code",
   "execution_count": 105,
   "metadata": {},
   "outputs": [
    {
     "data": {
      "image/png": "[encoded data removed]",
      "text/plain": [
       "<IPython.core.display.Image object>"
      ]
     },
     "execution_count": 105,
     "metadata": {},
     "output_type": "execute_result"
    }
   ],
   "source": [
    "Image(filename=\"../resources/SST.png\")"
   ]
  },
  {
   "cell_type": "markdown",
   "metadata": {},
   "source": [
    "* De lo anterior, es facil ver que mientras mas pequeño sea la $SSD$ (el error total de predicción), mas similares serán los valores de la $SST$ y la $SSR$. Partiendo de este hecho, se define un estadístico útil para evaluar la bondad de ajuste de la regresión lineal conocido como **coeficiente de determinación**, el cual esta dado por:"
   ]
  },
  {
   "cell_type": "markdown",
   "metadata": {},
   "source": [
    "<div align=\"center\">\n",
    "\t<font size=5>\n",
    "        $R^2=\\frac{SSR}{SST}$\n",
    "\t<font/>\n",
    "<div/>"
   ]
  },
  {
   "cell_type": "code",
   "execution_count": 92,
   "metadata": {},
   "outputs": [
    {
     "name": "stdout",
     "output_type": "stream",
     "text": [
      "SSR =  2434.030165808351\n",
      "SSD =  0.0\n",
      "SST =  2434.030165808351\n"
     ]
    }
   ],
   "source": [
    "# Calcularemos ahora los estadísticos de diferencias cuadradas para el modelo de regresión propuesto.\n",
    "Y_mean = np.mean(Y)\n",
    "SSR = np.sum((Y_e - Y_mean)**2)\n",
    "SSD = np.sum((Y - Y_e)**2)\n",
    "SST = np.sum((Y - Y_mean)**2)\n",
    "print(\"SSR = \", SSR)\n",
    "print(\"SSD = \", SSD)\n",
    "print(\"SST = \", SST)"
   ]
  },
  {
   "cell_type": "code",
   "execution_count": 93,
   "metadata": {},
   "outputs": [
    {
     "name": "stdout",
     "output_type": "stream",
     "text": [
      "SST = SSR + SSD\n",
      "SSR + SSD =  2434.030165808351\n"
     ]
    }
   ],
   "source": [
    "print(\"SST = SSR + SSD\")\n",
    "print(\"SSR + SSD = \", SSR + SSD)"
   ]
  },
  {
   "cell_type": "code",
   "execution_count": 94,
   "metadata": {},
   "outputs": [
    {
     "name": "stdout",
     "output_type": "stream",
     "text": [
      "R2 =  1.0\n"
     ]
    }
   ],
   "source": [
    "# Calculemos el estadístico \"R^2\"\n",
    "R2 = SSR/SST\n",
    "print(\"R2 = \", R2)"
   ]
  },
  {
   "cell_type": "code",
   "execution_count": 95,
   "metadata": {},
   "outputs": [
    {
     "data": {
      "text/plain": [
       "(array([  0.,   0.,   0.,   0.,   0.,   0.,   0.,   0.,   0.,   0., 100.,\n",
       "          0.,   0.,   0.,   0.,   0.,   0.,   0.,   0.,   0.]),\n",
       " array([-0.5 , -0.45, -0.4 , -0.35, -0.3 , -0.25, -0.2 , -0.15, -0.1 ,\n",
       "        -0.05,  0.  ,  0.05,  0.1 ,  0.15,  0.2 ,  0.25,  0.3 ,  0.35,\n",
       "         0.4 ,  0.45,  0.5 ]),\n",
       " <BarContainer object of 20 artists>)"
      ]
     },
     "execution_count": 95,
     "metadata": {},
     "output_type": "execute_result"
    },
    {
     "data": {
      "image/png": "[encoded data removed]",
      "text/plain": [
       "<Figure size 432x288 with 1 Axes>"
      ]
     },
     "metadata": {
      "needs_background": "light"
     },
     "output_type": "display_data"
    }
   ],
   "source": [
    "# Mostremos finalmente la distribución de los residuos \"res\"\n",
    "plt.hist(Y_e-Y, bins=20)"
   ]
  },
  {
   "cell_type": "markdown",
   "metadata": {},
   "source": [
    "## C. Cálculo del modelo de la Recta de Regresión\n",
    "* Recordemos que la recta de regresión lineal para dos variables (independiente y dependiente) esta dada por un modelo paramétrico de la forma:"
   ]
  },
  {
   "cell_type": "markdown",
   "metadata": {},
   "source": [
    "<div align=\"center\">\n",
    "\t<font size=4>\n",
    "        $Y_e(x)=\\alpha+\\beta x$\n",
    "\t<font/>\n",
    "<div/>"
   ]
  },
  {
   "cell_type": "markdown",
   "metadata": {},
   "source": [
    "* donde los parámetros $\\alpha$ y $\\beta$ se calculan como:"
   ]
  },
  {
   "cell_type": "markdown",
   "metadata": {},
   "source": [
    "<div align=\"center\">\n",
    "\t<font size=4>\n",
    "        $\\beta=\\frac{\\sum_{i=1}^n{(x_i-\\bar{x})(y_i-\\bar{y})}}{\\sum_{i=1}^n{(x_i-\\bar{x})^2}}$\n",
    "\t<font/>\n",
    "<div/>"
   ]
  },
  {
   "cell_type": "markdown",
   "metadata": {},
   "source": [
    "<div align=\"center\">\n",
    "\t<font size=4>\n",
    "        $\\alpha = \\bar{y}-\\beta\\bar{x}$\n",
    "\t<font/>\n",
    "<div/>"
   ]
  },
  {
   "cell_type": "code",
   "execution_count": 96,
   "metadata": {},
   "outputs": [
    {
     "name": "stdout",
     "output_type": "stream",
     "text": [
      "X_mean =  1.5216490826582332\n",
      "Y_mean =  7.891133257050644\n"
     ]
    }
   ],
   "source": [
    "# Calculemos los parámetros \"alpha\" y \"beta\" de la recta de regresión\n",
    "X_mean = np.mean(X)\n",
    "Y_mean = np.mean(Y)\n",
    "print(\"X_mean = \", X_mean)\n",
    "print(\"Y_mean = \", Y_mean)"
   ]
  },
  {
   "cell_type": "code",
   "execution_count": 97,
   "metadata": {},
   "outputs": [
    {
     "name": "stdout",
     "output_type": "stream",
     "text": [
      "alpha =  5.000000000000001\n",
      "beta =  1.9\n"
     ]
    }
   ],
   "source": [
    "beta = sum((X-X_mean)*(Y-Y_mean))/sum((X-X_mean)**2)\n",
    "alpha = Y_mean - beta*X_mean\n",
    "print(\"alpha = \", alpha)\n",
    "print(\"beta = \", beta)"
   ]
  },
  {
   "cell_type": "code",
   "execution_count": 98,
   "metadata": {},
   "outputs": [],
   "source": [
    "# Definir el modelo de predicción utilizando los parámetros encontrados\n",
    "Y_model = alpha + beta*X"
   ]
  },
  {
   "cell_type": "code",
   "execution_count": 99,
   "metadata": {},
   "outputs": [
    {
     "data": {
      "text/plain": [
       "(Text(0.5, 0, 'X'), Text(0, 0.5, 'Y'))"
      ]
     },
     "execution_count": 99,
     "metadata": {},
     "output_type": "execute_result"
    },
    {
     "data": {
      "image/png": "[encoded data removed]",
      "text/plain": [
       "<Figure size 432x288 with 1 Axes>"
      ]
     },
     "metadata": {
      "needs_background": "light"
     },
     "output_type": "display_data"
    }
   ],
   "source": [
    "# Generar la gráfica de la regresión\n",
    "plt.plot(X,Y,\"ro\")\n",
    "plt.plot(X,Y_e)\n",
    "plt.plot(X,Y_model)\n",
    "Y_mean_lin = [np.mean(Y) for i in range (1, len(X) +1)]\n",
    "plt.plot(X,Y_mean_lin,\"g\")\n",
    "plt.title(\"Observaciones vs Predicción\")\n",
    "plt.xlabel(\"X\"), plt.ylabel(\"Y\")"
   ]
  },
  {
   "cell_type": "code",
   "execution_count": 100,
   "metadata": {},
   "outputs": [
    {
     "name": "stdout",
     "output_type": "stream",
     "text": [
      "SSR =  2434.0301658083513\n",
      "SSD =  1.3647293660323504e-28\n",
      "SST =  2434.030165808351\n"
     ]
    }
   ],
   "source": [
    "# Calcular \"SSR\", \"SSD\" y \"SST\"\n",
    "SSR = np.sum((Y_model - Y_mean)**2)\n",
    "SSD = np.sum((Y - Y_model)**2)\n",
    "SST = np.sum((Y - Y_mean)**2)\n",
    "print(\"SSR = \", SSR)\n",
    "print(\"SSD = \", SSD)\n",
    "print(\"SST = \", SST)"
   ]
  },
  {
   "cell_type": "code",
   "execution_count": 102,
   "metadata": {},
   "outputs": [
    {
     "name": "stdout",
     "output_type": "stream",
     "text": [
      "R2 =  1.0000000000000002\n"
     ]
    }
   ],
   "source": [
    "# Calculemos el estadístico \"R^2\"\n",
    "R2 = SSR/SST\n",
    "print(\"R2 = \", R2)"
   ]
  },
  {
   "cell_type": "markdown",
   "metadata": {},
   "source": [
    "## E. Error estándar residual (RSE)"
   ]
  },
  {
   "cell_type": "markdown",
   "metadata": {},
   "source": [
    "* El **error estándar residual (RSE)** se define como la *desviación típica* correspondiente al término de error $SSD$ (desviación de la parte de los datos que el modelo no es capáz de explicar)."
   ]
  },
  {
   "cell_type": "markdown",
   "metadata": {},
   "source": [
    "* Para regresiones lineales simples, el $RSE$ se calcula como:"
   ]
  },
  {
   "cell_type": "markdown",
   "metadata": {},
   "source": [
    "<div align=\"center\">\n",
    "\t<font size=5>\n",
    "        $RSE=\\sqrt{\\frac{SSD}{n-2}}$\n",
    "\t<font/>\n",
    "<div/>"
   ]
  },
  {
   "cell_type": "markdown",
   "metadata": {},
   "source": [
    "* Por otro lado, si se trata del $RSE$ para el caso de una regresión múltple de $k$ variables predictoras, se tiene que:"
   ]
  },
  {
   "cell_type": "markdown",
   "metadata": {},
   "source": [
    "<div align=\"center\">\n",
    "\t<font size=5>\n",
    "        $RSE=\\sqrt{\\frac{SSD}{n-k-1}}$\n",
    "\t<font/>\n",
    "<div/>"
   ]
  },
  {
   "cell_type": "markdown",
   "metadata": {},
   "source": [
    "* Finalmente, es importante mencionar que el $RSE$ suele reportarse también como una proporción respecto a la media de las observaciones de la variable dependiente $y$ (lo cual nos da una idea del \"ratio\" (porcentaje) de error cometido en la predicción), de modo que:"
   ]
  },
  {
   "cell_type": "markdown",
   "metadata": {},
   "source": [
    "<div align=\"center\">\n",
    "\t<font size=5>\n",
    "        $RSE_\\% =\\frac{RSE}{\\bar{y}}$\n",
    "\t<font/>\n",
    "<div/>"
   ]
  },
  {
   "cell_type": "code",
   "execution_count": 103,
   "metadata": {},
   "outputs": [
    {
     "name": "stdout",
     "output_type": "stream",
     "text": [
      "RSE =  1.180076686384108e-15\n"
     ]
    }
   ],
   "source": [
    "# Calculemos el \"RSE\" para el modelo de regresión lineal anteriormente construido.\n",
    "RSE = np.sqrt(SSD/(len(X)-2))\n",
    "print(\"RSE = \", RSE)"
   ]
  },
  {
   "cell_type": "code",
   "execution_count": 104,
   "metadata": {},
   "outputs": [
    {
     "name": "stdout",
     "output_type": "stream",
     "text": [
      "RSE_% =  1.4954464054066277e-16\n"
     ]
    }
   ],
   "source": [
    "# Calculemos ahora el \"RSE_%\" para el modelo de regresión lineal anteriormente construido.\n",
    "RSE_ratio = RSE/Y_mean\n",
    "print(\"RSE_% = \", RSE_ratio)"
   ]
  },
  {
   "cell_type": "code",
   "execution_count": null,
   "metadata": {},
   "outputs": [],
   "source": [
    "   "
   ]
  }
 ],
 "metadata": {
  "kernelspec": {
   "display_name": "Python 3",
   "language": "python",
   "name": "python3"
  },
  "language_info": {
   "codemirror_mode": {
    "name": "ipython",
    "version": 3
   },
   "file_extension": ".py",
   "mimetype": "text/x-python",
   "name": "python",
   "nbconvert_exporter": "python",
   "pygments_lexer": "ipython3",
   "version": "3.8.8"
  }
 },
 "nbformat": 4,
 "nbformat_minor": 4
}
