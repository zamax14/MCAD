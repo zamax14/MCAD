{
 "cells": [
  {
   "cell_type": "markdown",
   "metadata": {},
   "source": [
    "# A. Regresión Lineal"
   ]
  },
  {
   "cell_type": "code",
   "execution_count": 2,
   "metadata": {},
   "outputs": [],
   "source": [
    "from IPython.display import Image"
   ]
  },
  {
   "cell_type": "markdown",
   "metadata": {},
   "source": [
    "* En estadística, una **regresión lineal** (o **ajuste lineal**) es un modelo matematíco utilizado para aproximar la relación de dependencia entre una variable dependiente $Y$ y una o mas variables independientes $x_i$. Dicho modelo de ajuste puede expresarse como:"
   ]
  },
  {
   "cell_type": "markdown",
   "metadata": {},
   "source": [
    "<div align=\"center\">\n",
    "\t<font size=5>\n",
    "        $Y=\\alpha+\\beta_1x_1+\\beta_2x_2+...+\\beta_kx_k$\n",
    "\t<font/>\n",
    "<div/>"
   ]
  },
  {
   "cell_type": "markdown",
   "metadata": {},
   "source": [
    "* donde:\n",
    "    * $k$ representa el número de parámetros del modelo.\n",
    "    * $Y$ es la *variable dependiente* (o *regresando*)\n",
    "    * $x_1,x_2,...x_k$ son las *variables independientes* (o *regresoras*)\n",
    "    * $\\beta_1,\\beta_2,...,\\beta_k$ son los parámetros del modelo de regresión, los cuales miden la influencia que cada una de las variables independientes tienen sobre la variable dependiente. \n",
    "    * $\\alpha$ es la intersección o **término constante**. "
   ]
  },
  {
   "cell_type": "markdown",
   "metadata": {},
   "source": [
    "## Ejemplo:\n",
    "* Supongamos que queremos modelar el costo de la renta mensual para pisos en alguna ciudad de los Estados Unidos según su superficie en metros cuadrados."
   ]
  },
  {
   "cell_type": "markdown",
   "metadata": {},
   "source": [
    "<table>\n",
    "  <thead>\n",
    "    <tr>\n",
    "      <th>Superficie (m$^2$)</th>\n",
    "      <th>Costo Mensual ($)</th>\n",
    "    </tr>\n",
    "  </thead>\n",
    "  <tbody>\n",
    "    <tr>\n",
    "      <td>150</td>\n",
    "      <td>450</td>\n",
    "    </tr>\n",
    "    <tr>\n",
    "      <td>120</td>\n",
    "      <td>380</td>\n",
    "    </tr>\n",
    "    <tr>\n",
    "      <td>170</td>\n",
    "      <td>480</td>\n",
    "    </tr>\n",
    "    <tr>\n",
    "      <td>80</td>\n",
    "      <td>270</td>\n",
    "    </tr>\n",
    "  </tbody>\n",
    "</table>"
   ]
  },
  {
   "cell_type": "markdown",
   "metadata": {},
   "source": [
    "* En este caso, se busca que la entrada o *variable predictora* (superficie del piso) nos ayude a *predecir* (o *estimar*) el valor de la variable de salidad (costo mensual)."
   ]
  },
  {
   "cell_type": "markdown",
   "metadata": {},
   "source": [
    "* Al aplicar una *regresión lineal*, partimos de la suposición de que una variable $Y$ (variable de salida) varia en forma lineal con respecto de una o mas variables $x_i$ (variables de entrada). De manera que, para el caso arriba descrito, el modelo lineal que permite estimar el costo mensual queda expresado como:"
   ]
  },
  {
   "cell_type": "markdown",
   "metadata": {},
   "source": [
    "<div align=\"center\">\n",
    "\t<font size=4>\n",
    "        $Y_e=\\alpha+\\beta x$\n",
    "\t<font/>\n",
    "<div/>"
   ]
  },
  {
   "cell_type": "markdown",
   "metadata": {},
   "source": [
    "<div align=\"center\">\n",
    "\t<font size=4>\n",
    "        $\"Costo Mensual\"=\\alpha+\\beta\"Superficie\"$\n",
    "\t<font/>\n",
    "<div/>"
   ]
  },
  {
   "cell_type": "markdown",
   "metadata": {},
   "source": [
    "* Si suponemos que el valor estimado para los parámetros $\\alpha$ y $\\beta$ son:"
   ]
  },
  {
   "cell_type": "markdown",
   "metadata": {},
   "source": [
    "<div align=\"center\">\n",
    "\t<font size=4>\n",
    "        $\\alpha=86.96$\n",
    "\t<font/>\n",
    "<div/>\n",
    "<div align=\"center\">\n",
    "\t<font size=4>\n",
    "        $\\beta=2.37$\n",
    "\t<font/>\n",
    "<div/>"
   ]
  },
  {
   "cell_type": "markdown",
   "metadata": {},
   "source": [
    "* Entonces el modelo de estimación lineal quedaria como:"
   ]
  },
  {
   "cell_type": "markdown",
   "metadata": {},
   "source": [
    "<div align=\"center\">\n",
    "\t<font size=4>\n",
    "        $Y_e=86.96+2.37 x$\n",
    "\t<font/>\n",
    "<div/>"
   ]
  },
  {
   "cell_type": "code",
   "execution_count": 3,
   "metadata": {},
   "outputs": [
    {
     "data": {
      "image/png": "[encoded data removed]",
      "text/plain": [
       "<IPython.core.display.Image object>"
      ]
     },
     "execution_count": 3,
     "metadata": {},
     "output_type": "execute_result"
    }
   ],
   "source": [
    "Image(filename=\"resources/LinearRegExample.png\")"
   ]
  },
  {
   "cell_type": "markdown",
   "metadata": {},
   "source": [
    "* Si suponemos por ejemplo que queremos encontrar el costo de la renta para un piso que tiene una superficie de $x=110$ m$^2$, entonces se tendría que:"
   ]
  },
  {
   "cell_type": "markdown",
   "metadata": {},
   "source": [
    "<div align=\"center\">\n",
    "\t<font size=4>\n",
    "        $Y_e=86.96+2.37(110)= \\$347.66$\n",
    "\t<font/>\n",
    "<div/>"
   ]
  },
  {
   "cell_type": "markdown",
   "metadata": {},
   "source": [
    "# B. Mínimos Cuadrados"
   ]
  },
  {
   "cell_type": "markdown",
   "metadata": {},
   "source": [
    "## B.1. Definición\n",
    "* **Mínimos cuadrados** es una técnica de análisis numérico enmarcada dentro de la optimización matemática, en la cual, dados un conjunto de pares ordenados (*variable independiente* y *variable dependiente*) y una familia de funciones, se busca encontrar la función continua dentro de dicha familia que mejor se aproxime a los datos (*linea de mejor ajuste*), de acuerdo con el criterio de **mínimo error cuadrático**."
   ]
  },
  {
   "cell_type": "markdown",
   "metadata": {},
   "source": [
    "## B.2. Minimización del Error Cuadrático\n",
    "* El objetivo de la técnica de **mínimos cuadrados** es minimizar la suma de los errores cuadrados sobre todos los puntos (observaciones) de un conjunto de datos $P=\\left\\{(X_i,Y_i) \\right\\}_{i=1}^n$ (donde $X_i=\\left\\{x_j\\right\\}_{j=1}^k$)\n",
    "* Considerese la diferencia entre un valor real (observado) y su respectivo valor estimado como:"
   ]
  },
  {
   "cell_type": "markdown",
   "metadata": {},
   "source": [
    "<div align=\"center\">\n",
    "\t<font size=4>\n",
    "        $e_i=(Y_i-Y_e(X_i))$\n",
    "\t<font/>\n",
    "<div/>"
   ]
  },
  {
   "cell_type": "markdown",
   "metadata": {},
   "source": [
    "* Por lo cual, la función a minimizar esta dada por:"
   ]
  },
  {
   "cell_type": "markdown",
   "metadata": {},
   "source": [
    "<div align=\"center\">\n",
    "\t<font size=4>\n",
    "        $min\\sum_{i=1}^n{e_i^2}=\\sum_{i=1}^n{(Y_i-Y_e(X_i))^2}$\n",
    "\t<font/>\n",
    "<div/>"
   ]
  },
  {
   "cell_type": "markdown",
   "metadata": {},
   "source": [
    "# C. Mínimos Cuadrados para la estimación del modelo de Regresión Lineal."
   ]
  },
  {
   "cell_type": "markdown",
   "metadata": {},
   "source": [
    "* En el caso de que se quiera implementar la técnica de minimos cuadrados para aproximar el *modelo lineal* de mejor ajuste para un conjunto de puntos dados $(x,y)$ (1 variable independiente + 1 variable dependiente), se tiene que"
   ]
  },
  {
   "cell_type": "markdown",
   "metadata": {},
   "source": [
    "<div align=\"center\">\n",
    "\t<font size=4>\n",
    "        $Y_e(x)=\\alpha+\\beta x$\n",
    "\t<font/>\n",
    "<div/>"
   ]
  },
  {
   "cell_type": "markdown",
   "metadata": {},
   "source": [
    "* Por lo cual, la función a minimizar queda expresada como:"
   ]
  },
  {
   "cell_type": "markdown",
   "metadata": {},
   "source": [
    "<div align=\"center\">\n",
    "\t<font size=4>\n",
    "        $min\\sum_{i=1}^n{(y_i-(\\alpha+\\beta x))^2}=min\\,S(\\alpha,\\beta)$\n",
    "\t<font/>\n",
    "<div/>"
   ]
  },
  {
   "cell_type": "markdown",
   "metadata": {},
   "source": [
    "* Al igualar a cero las derivadas parciales de la función $S(\\alpha,\\beta)$ con respecto de cada uno de sus parámetros variables ($\\alpha$ y $\\beta$), se puede obtener el valor de cada uno de estos parámetros, quedando de la siguiente manera:"
   ]
  },
  {
   "cell_type": "markdown",
   "metadata": {},
   "source": [
    "<div align=\"center\">\n",
    "\t<font size=4>\n",
    "        $\\frac{\\partial S(\\alpha,\\beta)}{\\partial \\alpha}=0 \\qquad\\frac{\\partial S(\\alpha,\\beta)}{\\partial \\beta}=0$\n",
    "\t<font/>\n",
    "<div/>"
   ]
  },
  {
   "cell_type": "markdown",
   "metadata": {},
   "source": [
    "<div align=\"center\">\n",
    "\t<font size=4>\n",
    "        $\\beta=\\frac{\\sum_{i=1}^n{(x_i-\\bar{x})(y_i-\\bar{y})}}{\\sum_{i=1}^n{(x_i-\\bar{x})^2}}=\\frac{Cov(x,y)}{Var(x)}$\n",
    "\t<font/>\n",
    "<div/>"
   ]
  },
  {
   "cell_type": "markdown",
   "metadata": {},
   "source": [
    "<div align=\"center\">\n",
    "\t<font size=4>\n",
    "        $\\alpha = \\bar{y}-\\beta\\bar{x}$\n",
    "\t<font/>\n",
    "<div/>"
   ]
  },
  {
   "cell_type": "markdown",
   "metadata": {},
   "source": [
    "# D. Componente de error de una Regresión Lineal"
   ]
  },
  {
   "cell_type": "markdown",
   "metadata": {},
   "source": [
    "* Idealmente, un modelo de predicción basado en una *regresión lineal* tendría la forma:"
   ]
  },
  {
   "cell_type": "markdown",
   "metadata": {},
   "source": [
    "<div align=\"center\">\n",
    "\t<font size=5>\n",
    "        $Y=\\alpha+\\beta_1x_1+\\beta_2x_2+...+\\beta_kx_k$\n",
    "\t<font/>\n",
    "<div/>"
   ]
  },
  {
   "cell_type": "markdown",
   "metadata": {},
   "source": [
    "* Sin embargo, en la realidad, las predicciónes arrojadas por dicho modelo habitualmente tentran incluido un cierto margen de desviación con respecto de la observaciones reales; es decir:"
   ]
  },
  {
   "cell_type": "markdown",
   "metadata": {},
   "source": [
    "<div align=\"center\">\n",
    "\t<font size=5>\n",
    "        $Y=\\alpha+\\beta_1x_1+\\beta_2x_2+...+\\beta_kx_k+\\epsilon$\n",
    "\t<font/>\n",
    "<div/>"
   ]
  },
  {
   "cell_type": "markdown",
   "metadata": {},
   "source": [
    "* donde $\\epsilon$ representa un *perturbación aleatoria* (también llamada *error* o residuo), la cuál se relaciona con aquellos factores de la realidad que no son controlables/observables.\n",
    "* Bajo la suposición de que el *modelo real* corresponda a una distribución lineal, el residuo $\\epsilon$ será una variable aleatoria con una *distribución normal*."
   ]
  },
  {
   "cell_type": "code",
   "execution_count": null,
   "metadata": {},
   "outputs": [],
   "source": []
  }
 ],
 "metadata": {
  "kernelspec": {
   "display_name": "Python 3",
   "language": "python",
   "name": "python3"
  },
  "language_info": {
   "codemirror_mode": {
    "name": "ipython",
    "version": 3
   },
   "file_extension": ".py",
   "mimetype": "text/x-python",
   "name": "python",
   "nbconvert_exporter": "python",
   "pygments_lexer": "ipython3",
   "version": "3.8.8"
  }
 },
 "nbformat": 4,
 "nbformat_minor": 4
}
