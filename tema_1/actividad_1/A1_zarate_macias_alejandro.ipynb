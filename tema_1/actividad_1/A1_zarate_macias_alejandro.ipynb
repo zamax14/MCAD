{
 "cells": [
  {
   "cell_type": "markdown",
   "id": "0bce2c6f",
   "metadata": {},
   "source": [
    "# A1 -  Validación de un Modelo de Regresión Lineal"
   ]
  },
  {
   "cell_type": "markdown",
   "id": "27d93c00",
   "metadata": {},
   "source": [
    "## Instrucciones:\n",
    "Utilizando las herramientas vistas en clase generar y evaluar un modelo de regresión lineal múltiple para las variables del dataset de \"advertising.csv\" considerando lo siguiente:\n",
    "\n",
    "\n",
    "1. Primeramente deberá generar una partición del conjunto de datos disponible, de manera que se tengan dos subconjuntos: uno de entrenamiento y otro de validación/testing. Se recomienda utilizar proporciones de 70/30 porciento de las observaciones para cada subconjunto.\n",
    "2. Generar y ajustar el modelo regresión utilizando el conjunto de datos de entrenamiento definido en el punto anterior.\n",
    "3. Evaluar la bondad de ajuste del modelo de regresión generado en términos de sus respectivo coeficientes de determinación.\n",
    "4. Realizar predicciones utilizando el modelo de regresión ajustado y el conjunto de datos de testing reservados previamente y evaluar el modelo en términos del el Error Residual Estándar en Ratio (RSE%)"
   ]
  },
  {
   "cell_type": "markdown",
   "id": "7ef275d3",
   "metadata": {},
   "source": [
    "### Librerias"
   ]
  },
  {
   "cell_type": "code",
   "execution_count": 316,
   "id": "d8115b2b",
   "metadata": {},
   "outputs": [],
   "source": [
    "import pandas as pd\n",
    "import numpy as np\n",
    "import matplotlib.pyplot as plt\n",
    "import statsmodels.formula.api as smf"
   ]
  },
  {
   "cell_type": "markdown",
   "id": "9268a701",
   "metadata": {},
   "source": [
    "### Carga de Datos"
   ]
  },
  {
   "cell_type": "code",
   "execution_count": 317,
   "id": "d6f1c4b9",
   "metadata": {},
   "outputs": [],
   "source": [
    "ads = pd.read_csv('../datasets/ads/Advertising.csv')"
   ]
  },
  {
   "cell_type": "code",
   "execution_count": 318,
   "id": "63addabb",
   "metadata": {},
   "outputs": [
    {
     "data": {
      "text/html": [
       "<div>\n",
       "<style scoped>\n",
       "    .dataframe tbody tr th:only-of-type {\n",
       "        vertical-align: middle;\n",
       "    }\n",
       "\n",
       "    .dataframe tbody tr th {\n",
       "        vertical-align: top;\n",
       "    }\n",
       "\n",
       "    .dataframe thead th {\n",
       "        text-align: right;\n",
       "    }\n",
       "</style>\n",
       "<table border=\"1\" class=\"dataframe\">\n",
       "  <thead>\n",
       "    <tr style=\"text-align: right;\">\n",
       "      <th></th>\n",
       "      <th>TV</th>\n",
       "      <th>Radio</th>\n",
       "      <th>Newspaper</th>\n",
       "      <th>Sales</th>\n",
       "    </tr>\n",
       "  </thead>\n",
       "  <tbody>\n",
       "    <tr>\n",
       "      <th>0</th>\n",
       "      <td>230.1</td>\n",
       "      <td>37.8</td>\n",
       "      <td>69.2</td>\n",
       "      <td>22.1</td>\n",
       "    </tr>\n",
       "    <tr>\n",
       "      <th>1</th>\n",
       "      <td>44.5</td>\n",
       "      <td>39.3</td>\n",
       "      <td>45.1</td>\n",
       "      <td>10.4</td>\n",
       "    </tr>\n",
       "    <tr>\n",
       "      <th>2</th>\n",
       "      <td>17.2</td>\n",
       "      <td>45.9</td>\n",
       "      <td>69.3</td>\n",
       "      <td>9.3</td>\n",
       "    </tr>\n",
       "    <tr>\n",
       "      <th>3</th>\n",
       "      <td>151.5</td>\n",
       "      <td>41.3</td>\n",
       "      <td>58.5</td>\n",
       "      <td>18.5</td>\n",
       "    </tr>\n",
       "    <tr>\n",
       "      <th>4</th>\n",
       "      <td>180.8</td>\n",
       "      <td>10.8</td>\n",
       "      <td>58.4</td>\n",
       "      <td>12.9</td>\n",
       "    </tr>\n",
       "  </tbody>\n",
       "</table>\n",
       "</div>"
      ],
      "text/plain": [
       "      TV  Radio  Newspaper  Sales\n",
       "0  230.1   37.8       69.2   22.1\n",
       "1   44.5   39.3       45.1   10.4\n",
       "2   17.2   45.9       69.3    9.3\n",
       "3  151.5   41.3       58.5   18.5\n",
       "4  180.8   10.8       58.4   12.9"
      ]
     },
     "execution_count": 318,
     "metadata": {},
     "output_type": "execute_result"
    }
   ],
   "source": [
    "ads.head()"
   ]
  },
  {
   "cell_type": "code",
   "execution_count": 319,
   "id": "c9c092d7",
   "metadata": {},
   "outputs": [
    {
     "data": {
      "text/plain": [
       "(200, 4)"
      ]
     },
     "execution_count": 319,
     "metadata": {},
     "output_type": "execute_result"
    }
   ],
   "source": [
    "ads.shape"
   ]
  },
  {
   "cell_type": "markdown",
   "id": "29e69f0b",
   "metadata": {},
   "source": [
    "### 1. Primeramente deberá generar una partición del conjunto de datos disponible, de manera que se tengan dos subconjuntos: uno de entrenamiento y otro de validación/testing. Se recomienda utilizar proporciones de 70/30 porciento de las observaciones para cada subconjunto."
   ]
  },
  {
   "cell_type": "code",
   "execution_count": 320,
   "id": "2766b630",
   "metadata": {},
   "outputs": [],
   "source": [
    "ads_train = ads.sample(frac=0.7)\n",
    "ads_test = ads.drop(ads_train.index)"
   ]
  },
  {
   "cell_type": "code",
   "execution_count": 321,
   "id": "92afa9c8",
   "metadata": {},
   "outputs": [
    {
     "data": {
      "text/plain": [
       "((140, 4), (60, 4))"
      ]
     },
     "execution_count": 321,
     "metadata": {},
     "output_type": "execute_result"
    }
   ],
   "source": [
    "ads_train.shape, ads_test.shape"
   ]
  },
  {
   "cell_type": "markdown",
   "id": "7fcf6875",
   "metadata": {},
   "source": [
    "### 2. Generar y ajustar el modelo regresión utilizando el conjunto de datos de entrenamiento definido en el punto anterior."
   ]
  },
  {
   "cell_type": "code",
   "execution_count": 322,
   "id": "bb567448",
   "metadata": {},
   "outputs": [],
   "source": [
    "lm = smf.ols(formula = \"Sales~TV+Radio+Newspaper\" , data = ads_train).fit()"
   ]
  },
  {
   "cell_type": "code",
   "execution_count": 323,
   "id": "c760c5a8",
   "metadata": {},
   "outputs": [
    {
     "data": {
      "text/plain": [
       "Intercept    2.917835\n",
       "TV           0.045411\n",
       "Radio        0.186214\n",
       "Newspaper   -0.001631\n",
       "dtype: float64"
      ]
     },
     "execution_count": 323,
     "metadata": {},
     "output_type": "execute_result"
    }
   ],
   "source": [
    "lm.params"
   ]
  },
  {
   "cell_type": "markdown",
   "id": "8e74fe4e",
   "metadata": {},
   "source": [
    "### 3. Evaluar la bondad de ajuste del modelo de regresión generado en términos de sus respectivo coeficientes de determinación."
   ]
  },
  {
   "cell_type": "code",
   "execution_count": 324,
   "id": "ecc5ee4f",
   "metadata": {},
   "outputs": [
    {
     "data": {
      "text/plain": [
       "np.float64(0.8809084916175789)"
      ]
     },
     "execution_count": 324,
     "metadata": {},
     "output_type": "execute_result"
    }
   ],
   "source": [
    "lm.rsquared"
   ]
  },
  {
   "cell_type": "code",
   "execution_count": 325,
   "id": "97d36888",
   "metadata": {},
   "outputs": [
    {
     "data": {
      "text/plain": [
       "np.float64(0.8782814730503197)"
      ]
     },
     "execution_count": 325,
     "metadata": {},
     "output_type": "execute_result"
    }
   ],
   "source": [
    "lm.rsquared_adj"
   ]
  },
  {
   "cell_type": "markdown",
   "id": "6413030f",
   "metadata": {},
   "source": [
    "### 4. Realizar predicciones utilizando el modelo de regresión ajustado y el conjunto de datos de testing reservados previamente y evaluar el modelo en términos del el Error Residual Estándar en Ratio (RSE%)"
   ]
  },
  {
   "cell_type": "code",
   "execution_count": 326,
   "id": "793d94e6",
   "metadata": {},
   "outputs": [
    {
     "data": {
      "text/plain": [
       "0      20.292994\n",
       "1      12.183295\n",
       "4      13.044058\n",
       "5      12.296469\n",
       "6      11.598474\n",
       "7      12.007138\n",
       "10      6.960093\n",
       "11     17.130232\n",
       "21     14.609825\n",
       "36     23.186101\n",
       "37     15.434496\n",
       "38      9.789731\n",
       "40     16.214644\n",
       "45     15.007783\n",
       "48     16.096069\n",
       "49      8.074537\n",
       "53     19.717281\n",
       "55     21.051248\n",
       "58     21.665249\n",
       "60      5.684865\n",
       "66      8.925562\n",
       "68     18.801400\n",
       "71     10.515151\n",
       "76      4.430830\n",
       "84     20.565208\n",
       "87     15.402079\n",
       "88     11.556405\n",
       "89     16.721192\n",
       "98     23.866818\n",
       "101    22.972743\n",
       "103    14.624290\n",
       "111    20.932020\n",
       "112    13.760364\n",
       "116    11.860188\n",
       "117     6.512088\n",
       "119     6.741870\n",
       "120    14.249632\n",
       "123    14.930735\n",
       "131    15.430787\n",
       "133    19.063839\n",
       "137    20.631111\n",
       "138     9.660027\n",
       "142    19.051504\n",
       "144     9.978924\n",
       "145     9.628157\n",
       "147    23.014081\n",
       "150    18.192798\n",
       "154    15.359681\n",
       "157     9.922886\n",
       "160    14.071677\n",
       "177    12.041890\n",
       "179    12.271369\n",
       "183    23.868211\n",
       "186     9.600371\n",
       "187    16.910577\n",
       "188    18.487780\n",
       "189     5.982054\n",
       "190    12.355511\n",
       "191     8.347707\n",
       "198    23.509484\n",
       "dtype: float64"
      ]
     },
     "execution_count": 326,
     "metadata": {},
     "output_type": "execute_result"
    }
   ],
   "source": [
    "sales_pred = lm.predict(ads_test[[\"TV\",\"Radio\",\"Newspaper\"]])\n",
    "sales_pred"
   ]
  },
  {
   "cell_type": "code",
   "execution_count": 327,
   "id": "c9a4d85e",
   "metadata": {},
   "outputs": [
    {
     "data": {
      "text/plain": [
       "(60,)"
      ]
     },
     "execution_count": 327,
     "metadata": {},
     "output_type": "execute_result"
    }
   ],
   "source": [
    "sales_pred.shape"
   ]
  },
  {
   "cell_type": "code",
   "execution_count": 328,
   "id": "b00468c9",
   "metadata": {},
   "outputs": [
    {
     "data": {
      "text/html": [
       "<table class=\"simpletable\">\n",
       "<caption>OLS Regression Results</caption>\n",
       "<tr>\n",
       "  <th>Dep. Variable:</th>          <td>Sales</td>      <th>  R-squared:         </th> <td>   0.881</td>\n",
       "</tr>\n",
       "<tr>\n",
       "  <th>Model:</th>                   <td>OLS</td>       <th>  Adj. R-squared:    </th> <td>   0.878</td>\n",
       "</tr>\n",
       "<tr>\n",
       "  <th>Method:</th>             <td>Least Squares</td>  <th>  F-statistic:       </th> <td>   335.3</td>\n",
       "</tr>\n",
       "<tr>\n",
       "  <th>Date:</th>             <td>Sat, 04 Oct 2025</td> <th>  Prob (F-statistic):</th> <td>1.27e-62</td>\n",
       "</tr>\n",
       "<tr>\n",
       "  <th>Time:</th>                 <td>09:48:56</td>     <th>  Log-Likelihood:    </th> <td> -275.46</td>\n",
       "</tr>\n",
       "<tr>\n",
       "  <th>No. Observations:</th>      <td>   140</td>      <th>  AIC:               </th> <td>   558.9</td>\n",
       "</tr>\n",
       "<tr>\n",
       "  <th>Df Residuals:</th>          <td>   136</td>      <th>  BIC:               </th> <td>   570.7</td>\n",
       "</tr>\n",
       "<tr>\n",
       "  <th>Df Model:</th>              <td>     3</td>      <th>                     </th>     <td> </td>   \n",
       "</tr>\n",
       "<tr>\n",
       "  <th>Covariance Type:</th>      <td>nonrobust</td>    <th>                     </th>     <td> </td>   \n",
       "</tr>\n",
       "</table>\n",
       "<table class=\"simpletable\">\n",
       "<tr>\n",
       "      <td></td>         <th>coef</th>     <th>std err</th>      <th>t</th>      <th>P>|t|</th>  <th>[0.025</th>    <th>0.975]</th>  \n",
       "</tr>\n",
       "<tr>\n",
       "  <th>Intercept</th> <td>    2.9178</td> <td>    0.398</td> <td>    7.328</td> <td> 0.000</td> <td>    2.130</td> <td>    3.705</td>\n",
       "</tr>\n",
       "<tr>\n",
       "  <th>TV</th>        <td>    0.0454</td> <td>    0.002</td> <td>   26.270</td> <td> 0.000</td> <td>    0.042</td> <td>    0.049</td>\n",
       "</tr>\n",
       "<tr>\n",
       "  <th>Radio</th>     <td>    0.1862</td> <td>    0.011</td> <td>   17.449</td> <td> 0.000</td> <td>    0.165</td> <td>    0.207</td>\n",
       "</tr>\n",
       "<tr>\n",
       "  <th>Newspaper</th> <td>   -0.0016</td> <td>    0.007</td> <td>   -0.226</td> <td> 0.821</td> <td>   -0.016</td> <td>    0.013</td>\n",
       "</tr>\n",
       "</table>\n",
       "<table class=\"simpletable\">\n",
       "<tr>\n",
       "  <th>Omnibus:</th>       <td>45.731</td> <th>  Durbin-Watson:     </th> <td>   2.137</td>\n",
       "</tr>\n",
       "<tr>\n",
       "  <th>Prob(Omnibus):</th> <td> 0.000</td> <th>  Jarque-Bera (JB):  </th> <td> 108.579</td>\n",
       "</tr>\n",
       "<tr>\n",
       "  <th>Skew:</th>          <td>-1.344</td> <th>  Prob(JB):          </th> <td>2.64e-24</td>\n",
       "</tr>\n",
       "<tr>\n",
       "  <th>Kurtosis:</th>      <td> 6.375</td> <th>  Cond. No.          </th> <td>    455.</td>\n",
       "</tr>\n",
       "</table><br/><br/>Notes:<br/>[1] Standard Errors assume that the covariance matrix of the errors is correctly specified."
      ],
      "text/latex": [
       "\\begin{center}\n",
       "\\begin{tabular}{lclc}\n",
       "\\toprule\n",
       "\\textbf{Dep. Variable:}    &      Sales       & \\textbf{  R-squared:         } &     0.881   \\\\\n",
       "\\textbf{Model:}            &       OLS        & \\textbf{  Adj. R-squared:    } &     0.878   \\\\\n",
       "\\textbf{Method:}           &  Least Squares   & \\textbf{  F-statistic:       } &     335.3   \\\\\n",
       "\\textbf{Date:}             & Sat, 04 Oct 2025 & \\textbf{  Prob (F-statistic):} &  1.27e-62   \\\\\n",
       "\\textbf{Time:}             &     09:48:56     & \\textbf{  Log-Likelihood:    } &   -275.46   \\\\\n",
       "\\textbf{No. Observations:} &         140      & \\textbf{  AIC:               } &     558.9   \\\\\n",
       "\\textbf{Df Residuals:}     &         136      & \\textbf{  BIC:               } &     570.7   \\\\\n",
       "\\textbf{Df Model:}         &           3      & \\textbf{                     } &             \\\\\n",
       "\\textbf{Covariance Type:}  &    nonrobust     & \\textbf{                     } &             \\\\\n",
       "\\bottomrule\n",
       "\\end{tabular}\n",
       "\\begin{tabular}{lcccccc}\n",
       "                   & \\textbf{coef} & \\textbf{std err} & \\textbf{t} & \\textbf{P$> |$t$|$} & \\textbf{[0.025} & \\textbf{0.975]}  \\\\\n",
       "\\midrule\n",
       "\\textbf{Intercept} &       2.9178  &        0.398     &     7.328  &         0.000        &        2.130    &        3.705     \\\\\n",
       "\\textbf{TV}        &       0.0454  &        0.002     &    26.270  &         0.000        &        0.042    &        0.049     \\\\\n",
       "\\textbf{Radio}     &       0.1862  &        0.011     &    17.449  &         0.000        &        0.165    &        0.207     \\\\\n",
       "\\textbf{Newspaper} &      -0.0016  &        0.007     &    -0.226  &         0.821        &       -0.016    &        0.013     \\\\\n",
       "\\bottomrule\n",
       "\\end{tabular}\n",
       "\\begin{tabular}{lclc}\n",
       "\\textbf{Omnibus:}       & 45.731 & \\textbf{  Durbin-Watson:     } &    2.137  \\\\\n",
       "\\textbf{Prob(Omnibus):} &  0.000 & \\textbf{  Jarque-Bera (JB):  } &  108.579  \\\\\n",
       "\\textbf{Skew:}          & -1.344 & \\textbf{  Prob(JB):          } & 2.64e-24  \\\\\n",
       "\\textbf{Kurtosis:}      &  6.375 & \\textbf{  Cond. No.          } &     455.  \\\\\n",
       "\\bottomrule\n",
       "\\end{tabular}\n",
       "%\\caption{OLS Regression Results}\n",
       "\\end{center}\n",
       "\n",
       "Notes: \\newline\n",
       " [1] Standard Errors assume that the covariance matrix of the errors is correctly specified."
      ],
      "text/plain": [
       "<class 'statsmodels.iolib.summary.Summary'>\n",
       "\"\"\"\n",
       "                            OLS Regression Results                            \n",
       "==============================================================================\n",
       "Dep. Variable:                  Sales   R-squared:                       0.881\n",
       "Model:                            OLS   Adj. R-squared:                  0.878\n",
       "Method:                 Least Squares   F-statistic:                     335.3\n",
       "Date:                Sat, 04 Oct 2025   Prob (F-statistic):           1.27e-62\n",
       "Time:                        09:48:56   Log-Likelihood:                -275.46\n",
       "No. Observations:                 140   AIC:                             558.9\n",
       "Df Residuals:                     136   BIC:                             570.7\n",
       "Df Model:                           3                                         \n",
       "Covariance Type:            nonrobust                                         \n",
       "==============================================================================\n",
       "                 coef    std err          t      P>|t|      [0.025      0.975]\n",
       "------------------------------------------------------------------------------\n",
       "Intercept      2.9178      0.398      7.328      0.000       2.130       3.705\n",
       "TV             0.0454      0.002     26.270      0.000       0.042       0.049\n",
       "Radio          0.1862      0.011     17.449      0.000       0.165       0.207\n",
       "Newspaper     -0.0016      0.007     -0.226      0.821      -0.016       0.013\n",
       "==============================================================================\n",
       "Omnibus:                       45.731   Durbin-Watson:                   2.137\n",
       "Prob(Omnibus):                  0.000   Jarque-Bera (JB):              108.579\n",
       "Skew:                          -1.344   Prob(JB):                     2.64e-24\n",
       "Kurtosis:                       6.375   Cond. No.                         455.\n",
       "==============================================================================\n",
       "\n",
       "Notes:\n",
       "[1] Standard Errors assume that the covariance matrix of the errors is correctly specified.\n",
       "\"\"\""
      ]
     },
     "execution_count": 328,
     "metadata": {},
     "output_type": "execute_result"
    }
   ],
   "source": [
    "lm.summary()"
   ]
  },
  {
   "cell_type": "code",
   "execution_count": 329,
   "id": "1fe17929",
   "metadata": {},
   "outputs": [],
   "source": [
    "def RSE_rate(lm, X,Y):\n",
    "    Y_e = lm.predict(X)\n",
    "    SSD = np.sum((Y-Y_e)**2)\n",
    "    RSE = np.sqrt(SSD/(len(X)-len(X.columns.values.tolist())-1))\n",
    "    RSE_rate = RSE/np.mean(Y)\n",
    "    return RSE_rate"
   ]
  },
  {
   "cell_type": "code",
   "execution_count": 330,
   "id": "f07fd185",
   "metadata": {},
   "outputs": [
    {
     "data": {
      "text/plain": [
       "np.float64(0.10552608268002181)"
      ]
     },
     "execution_count": 330,
     "metadata": {},
     "output_type": "execute_result"
    }
   ],
   "source": [
    "RSE_TV_Radio_News = RSE_rate(lm, ads_test[[\"TV\",\"Radio\",\"Newspaper\"]], ads_test[\"Sales\"])\n",
    "RSE_TV_Radio_News"
   ]
  }
 ],
 "metadata": {
  "kernelspec": {
   "display_name": "stats",
   "language": "python",
   "name": "python3"
  },
  "language_info": {
   "codemirror_mode": {
    "name": "ipython",
    "version": 3
   },
   "file_extension": ".py",
   "mimetype": "text/x-python",
   "name": "python",
   "nbconvert_exporter": "python",
   "pygments_lexer": "ipython3",
   "version": "3.12.9"
  }
 },
 "nbformat": 4,
 "nbformat_minor": 5
}
