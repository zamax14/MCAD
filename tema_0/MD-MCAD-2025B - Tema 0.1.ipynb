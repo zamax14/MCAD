{
 "cells": [
  {
   "cell_type": "markdown",
   "id": "d6c36b78",
   "metadata": {},
   "source": [
    "# Medidas Básicas de Estadística Descriptiva"
   ]
  },
  {
   "cell_type": "code",
   "execution_count": 1,
   "id": "56045b32",
   "metadata": {},
   "outputs": [],
   "source": [
    "import numpy as np"
   ]
  },
  {
   "cell_type": "markdown",
   "id": "e3e21e64",
   "metadata": {},
   "source": [
    "## 1. Medidas de Centralización\n",
    "Estás nos sirven para ver cómo se sitúan los datos entre si. Estas medidas incluyen:\n",
    "* Media\n",
    "* Mediana\n",
    "* Percentiles\n",
    "* Moda"
   ]
  },
  {
   "cell_type": "code",
   "execution_count": 2,
   "id": "49ccc2df",
   "metadata": {},
   "outputs": [],
   "source": [
    "import random"
   ]
  },
  {
   "cell_type": "code",
   "execution_count": 3,
   "id": "c50fefc3",
   "metadata": {},
   "outputs": [
    {
     "data": {
      "text/plain": [
       "[75,\n",
       " 73,\n",
       " 51,\n",
       " 63,\n",
       " 35,\n",
       " 46,\n",
       " 57,\n",
       " 10,\n",
       " 87,\n",
       " 72,\n",
       " 66,\n",
       " 74,\n",
       " 39,\n",
       " 56,\n",
       " 79,\n",
       " 26,\n",
       " 91,\n",
       " 27,\n",
       " 78,\n",
       " 77,\n",
       " 94,\n",
       " 13,\n",
       " 59,\n",
       " 92,\n",
       " 45,\n",
       " 80,\n",
       " 82,\n",
       " 24,\n",
       " 70,\n",
       " 0,\n",
       " 67,\n",
       " 12,\n",
       " 65,\n",
       " 62,\n",
       " 84,\n",
       " 71,\n",
       " 18,\n",
       " 53,\n",
       " 15,\n",
       " 85,\n",
       " 17,\n",
       " 25,\n",
       " 48,\n",
       " 32,\n",
       " 20,\n",
       " 34,\n",
       " 2,\n",
       " 61,\n",
       " 81,\n",
       " 16,\n",
       " 99,\n",
       " 5,\n",
       " 29,\n",
       " 7,\n",
       " 36,\n",
       " 40,\n",
       " 11,\n",
       " 50,\n",
       " 37,\n",
       " 98]"
      ]
     },
     "execution_count": 3,
     "metadata": {},
     "output_type": "execute_result"
    }
   ],
   "source": [
    "# random.seed(0)\n",
    "A = random.sample(range(100),60)\n",
    "A"
   ]
  },
  {
   "cell_type": "code",
   "execution_count": 4,
   "id": "133d07ca",
   "metadata": {},
   "outputs": [
    {
     "data": {
      "text/plain": [
       "np.float64(50.35)"
      ]
     },
     "execution_count": 4,
     "metadata": {},
     "output_type": "execute_result"
    }
   ],
   "source": [
    "# Calcular la media\n",
    "np.mean(A)"
   ]
  },
  {
   "cell_type": "code",
   "execution_count": 5,
   "id": "da984811",
   "metadata": {},
   "outputs": [
    {
     "data": {
      "text/plain": [
       "np.float64(52.0)"
      ]
     },
     "execution_count": 5,
     "metadata": {},
     "output_type": "execute_result"
    }
   ],
   "source": [
    "# Calcular la mediana\n",
    "np.median(A)"
   ]
  },
  {
   "cell_type": "code",
   "execution_count": 11,
   "id": "7891d00f",
   "metadata": {},
   "outputs": [
    {
     "data": {
      "text/plain": [
       "ModeResult(mode=np.int64(1), count=np.int64(3))"
      ]
     },
     "execution_count": 11,
     "metadata": {},
     "output_type": "execute_result"
    }
   ],
   "source": [
    "# Calcular la moda\n",
    "from scipy import stats\n",
    "B = [7, 5, 1, 1, 1, 3, 3, 4, 6]\n",
    "stats.mode(B)"
   ]
  },
  {
   "cell_type": "code",
   "execution_count": 168,
   "id": "5ffc27b1",
   "metadata": {},
   "outputs": [],
   "source": [
    "C = [0, 1, 2, 3, 4, 5, 6, 7, 8, 9, 10]"
   ]
  },
  {
   "cell_type": "code",
   "execution_count": 169,
   "id": "a23afdb0",
   "metadata": {},
   "outputs": [
    {
     "data": {
      "text/plain": [
       "2.5"
      ]
     },
     "execution_count": 169,
     "metadata": {},
     "output_type": "execute_result"
    }
   ],
   "source": [
    "p25 = np.percentile(C,25)\n",
    "p25"
   ]
  },
  {
   "cell_type": "code",
   "execution_count": 170,
   "id": "994c8245",
   "metadata": {},
   "outputs": [
    {
     "data": {
      "text/plain": [
       "5.0"
      ]
     },
     "execution_count": 170,
     "metadata": {},
     "output_type": "execute_result"
    }
   ],
   "source": [
    "p50 = np.percentile(C,50)\n",
    "p50"
   ]
  },
  {
   "cell_type": "code",
   "execution_count": 171,
   "id": "9d96d325",
   "metadata": {},
   "outputs": [
    {
     "data": {
      "text/plain": [
       "7.5"
      ]
     },
     "execution_count": 171,
     "metadata": {},
     "output_type": "execute_result"
    }
   ],
   "source": [
    "p75 = np.percentile(C,75)\n",
    "p75"
   ]
  },
  {
   "cell_type": "code",
   "execution_count": 172,
   "id": "b5755dcf",
   "metadata": {},
   "outputs": [
    {
     "data": {
      "text/plain": [
       "10.0"
      ]
     },
     "execution_count": 172,
     "metadata": {},
     "output_type": "execute_result"
    }
   ],
   "source": [
    "p100 = np.percentile(C,100)\n",
    "p100"
   ]
  },
  {
   "cell_type": "markdown",
   "id": "d8efba5a",
   "metadata": {},
   "source": [
    "## 2. Medidas de Dispersión\n",
    "La **varianza** y la **desviación típica (estandar)** son valores que indican que tanto están desplazadas las muestras con respecto de la media.\n",
    "\n",
    "La **varianza** representa el que tanto se alejan los valores de las muestras respecto a la media. La varianza eleva los valores al cuadrado (introduce una nueva dimension).\n",
    "\n",
    "La **desviación típica** es la raíz cuadrada de la varianza.\n",
    "\n",
    "El **coeficiente de variación** mide la variabilidad relativa entre la desviación típica y la media."
   ]
  },
  {
   "cell_type": "code",
   "execution_count": 173,
   "id": "e25fbf00",
   "metadata": {},
   "outputs": [
    {
     "data": {
      "text/plain": [
       "778.7497222222222"
      ]
     },
     "execution_count": 173,
     "metadata": {},
     "output_type": "execute_result"
    }
   ],
   "source": [
    "# Calcular la Varianza\n",
    "np.var(A)"
   ]
  },
  {
   "cell_type": "code",
   "execution_count": 174,
   "id": "2dc4ada2",
   "metadata": {},
   "outputs": [
    {
     "data": {
      "text/plain": [
       "27.906087547741663"
      ]
     },
     "execution_count": 174,
     "metadata": {},
     "output_type": "execute_result"
    }
   ],
   "source": [
    "# Calcular la Desviación Típica\n",
    "np.std(A)"
   ]
  },
  {
   "cell_type": "code",
   "execution_count": 175,
   "id": "74763aaa",
   "metadata": {},
   "outputs": [
    {
     "data": {
      "text/plain": [
       "27.906087547741663"
      ]
     },
     "execution_count": 175,
     "metadata": {},
     "output_type": "execute_result"
    }
   ],
   "source": [
    "# Calcular la Desviación Típica\n",
    "np.sqrt(np.var(A))"
   ]
  },
  {
   "cell_type": "code",
   "execution_count": 176,
   "id": "efea9c35",
   "metadata": {},
   "outputs": [
    {
     "data": {
      "text/plain": [
       "54.69994292272132"
      ]
     },
     "execution_count": 176,
     "metadata": {},
     "output_type": "execute_result"
    }
   ],
   "source": [
    "coef_var = np.std(A)/np.mean(A)*100\n",
    "coef_var"
   ]
  },
  {
   "cell_type": "markdown",
   "id": "431a1a9b",
   "metadata": {},
   "source": [
    "## 3. Medidas de Asimetría\n",
    "**Momento de Orden '$r$' respecto a la media:** representan los momentos de distribución respecto a la media.\n",
    "\n",
    "*Forma general de los momentos de orden '$r$' respecto a la media:*\n",
    "\n",
    "* <font size=5>$m_r = \\frac{(x_1-\\mu)^r + (x_2-\\mu)^r + (x_3-\\mu)^r +...+ (x_n-\\mu)^r}{n}$</font>\n",
    "\n",
    "Donde:\n",
    "* $x_i$ -> i-ésima muestra\n",
    "* $\\mu$ -> Media de la población\n",
    "* $r$ -> Orden del Momento\n",
    "* $n$ -> tamaño de la población de muestras\n",
    "\n",
    "*Ejemplos de Momentos de orden '$r$' respecto a la media:*\n",
    "\n",
    "* 1er Momento ($r=1$) -> Siempre es igual a **0 (cero)**\n",
    "* 2do Momento ($r=2$) -> Es equivalente a calcular la **varianza**\n",
    "* 3er Momento ($r=3$) -> Representa la **Asimetría de Fisher**\n",
    "* 4to Momento ($r=4$) -> Representa la **Curtosis**"
   ]
  },
  {
   "cell_type": "code",
   "execution_count": 177,
   "id": "932e3df0",
   "metadata": {},
   "outputs": [],
   "source": [
    "import scipy.stats as sp\n",
    "from IPython.display import Image"
   ]
  },
  {
   "cell_type": "markdown",
   "id": "ce8675ba",
   "metadata": {},
   "source": [
    "**Asimetría de Fisher**\n",
    "* Si el coeficiente es = 0, esto indica que la función de distribución es perfectamente simétrica (se distribuye igual en ambos lados). Un ejemplo de esto es la *Distribución Normal*. En la realidad, es raro que el coeficiente de asimetría de una distribución sea igual a cero.\n",
    "* Si el coeficiente es > 0, esto indica que la distribución esta cargada hacia el lado izquiedo (**asimetría positiva**). En este caso, el valor de la *media* se ubica por encima del valor de la *moda*\n",
    "* Si el coeficiente es < 0, esto indica que la distribución está cargada hacia el lado derecho(**asimetría negativa**). En este caso, el valor de la *media* se ubica por debajo del valor de la *moda*"
   ]
  },
  {
   "cell_type": "code",
   "execution_count": 178,
   "id": "3734cd26",
   "metadata": {},
   "outputs": [
    {
     "data": {
      "image/png": "[encoded data removed]",
      "text/plain": [
       "<IPython.core.display.Image object>"
      ]
     },
     "execution_count": 178,
     "metadata": {},
     "output_type": "execute_result"
    }
   ],
   "source": [
    "# Representación de la Asimetría de Fisher\n",
    "Image(filename=\"C:/Users/neosb/Downloads/python-ml-course-master/notebooks/resources/asimetria.png\")"
   ]
  },
  {
   "cell_type": "code",
   "execution_count": 179,
   "id": "4aa4a127",
   "metadata": {},
   "outputs": [
    {
     "data": {
      "text/plain": [
       "-0.09147495951947122"
      ]
     },
     "execution_count": 179,
     "metadata": {},
     "output_type": "execute_result"
    }
   ],
   "source": [
    "# 3er Momento (Asimetria de Fisher)\n",
    "sp.skew(A)"
   ]
  },
  {
   "cell_type": "code",
   "execution_count": 180,
   "id": "4ae99ee0",
   "metadata": {},
   "outputs": [],
   "source": [
    "import matplotlib.pyplot as plt"
   ]
  },
  {
   "cell_type": "code",
   "execution_count": 181,
   "id": "78f54c1f",
   "metadata": {},
   "outputs": [
    {
     "data": {
      "text/plain": [
       "(array([6., 5., 4., 7., 7., 5., 9., 5., 7., 5.]),\n",
       " array([ 0. ,  9.9, 19.8, 29.7, 39.6, 49.5, 59.4, 69.3, 79.2, 89.1, 99. ]),\n",
       " <BarContainer object of 10 artists>)"
      ]
     },
     "execution_count": 181,
     "metadata": {},
     "output_type": "execute_result"
    },
    {
     "data": {
      "image/png": "[encoded data removed]",
      "text/plain": [
       "<Figure size 432x288 with 1 Axes>"
      ]
     },
     "metadata": {
      "needs_background": "light"
     },
     "output_type": "display_data"
    }
   ],
   "source": [
    "plt.hist(A)"
   ]
  },
  {
   "cell_type": "markdown",
   "id": "357a7cb6",
   "metadata": {},
   "source": [
    "**Curtosis**\n",
    "* Si el coeficiente es = 0, esto es indicativo de una distribución **Mesocúrtica** (tanto el centro de la distribución como sus colas están compensados).\n",
    "* Si el coeficiente es > 0, esto indica que la distribución es **Leptocúrtica** (los datos están notablemente concentrados en el centro de la distribución, mientras que apenas tiene colas),\n",
    "* Si el coeficiente es < 0, la distribución se denomina como **Platicúrtica** (hay mas datos concentrados en las colas en comparación con el centro de la distribución)."
   ]
  },
  {
   "cell_type": "code",
   "execution_count": 182,
   "id": "b439e14a",
   "metadata": {},
   "outputs": [
    {
     "data": {
      "image/png": "[encoded data removed]",
      "text/plain": [
       "<IPython.core.display.Image object>"
      ]
     },
     "execution_count": 182,
     "metadata": {},
     "output_type": "execute_result"
    }
   ],
   "source": [
    "# Representación de la Curtosis\n",
    "Image(filename=\"C:/Users/neosb/Downloads/python-ml-course-master/notebooks/resources/curtosis.png\")"
   ]
  },
  {
   "cell_type": "code",
   "execution_count": 183,
   "id": "22e60570",
   "metadata": {},
   "outputs": [
    {
     "data": {
      "text/plain": [
       "-1.0634561924099764"
      ]
     },
     "execution_count": 183,
     "metadata": {},
     "output_type": "execute_result"
    }
   ],
   "source": [
    "# 4to Momento: Cuartosis\n",
    "sp.kurtosis(A)"
   ]
  },
  {
   "cell_type": "code",
   "execution_count": 160,
   "id": "e7e68dfc",
   "metadata": {},
   "outputs": [],
   "source": [
    "random.seed(3)\n",
    "B = random.sample(range(90),89)"
   ]
  },
  {
   "cell_type": "code",
   "execution_count": 161,
   "id": "48d8a8b9",
   "metadata": {},
   "outputs": [
    {
     "data": {
      "text/plain": [
       "(array([5., 4., 5., 4., 5., 4., 5., 4., 5., 4., 4., 5., 3., 5., 4., 5., 4.,\n",
       "        5., 4., 5.]),\n",
       " array([ 0.  ,  4.45,  8.9 , 13.35, 17.8 , 22.25, 26.7 , 31.15, 35.6 ,\n",
       "        40.05, 44.5 , 48.95, 53.4 , 57.85, 62.3 , 66.75, 71.2 , 75.65,\n",
       "        80.1 , 84.55, 89.  ]),\n",
       " <BarContainer object of 20 artists>)"
      ]
     },
     "execution_count": 161,
     "metadata": {},
     "output_type": "execute_result"
    },
    {
     "data": {
      "image/png": "[encoded data removed]",
      "text/plain": [
       "<Figure size 432x288 with 1 Axes>"
      ]
     },
     "metadata": {
      "needs_background": "light"
     },
     "output_type": "display_data"
    }
   ],
   "source": [
    "plt.hist(B,bins=20)"
   ]
  }
 ],
 "metadata": {
  "kernelspec": {
   "display_name": "stats",
   "language": "python",
   "name": "python3"
  },
  "language_info": {
   "codemirror_mode": {
    "name": "ipython",
    "version": 3
   },
   "file_extension": ".py",
   "mimetype": "text/x-python",
   "name": "python",
   "nbconvert_exporter": "python",
   "pygments_lexer": "ipython3",
   "version": "3.12.9"
  }
 },
 "nbformat": 4,
 "nbformat_minor": 5
}
