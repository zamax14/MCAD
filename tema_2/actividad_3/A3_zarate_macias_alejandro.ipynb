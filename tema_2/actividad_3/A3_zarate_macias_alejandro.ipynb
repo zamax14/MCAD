{
 "cells": [
  {
   "cell_type": "markdown",
   "id": "eb37eb8b",
   "metadata": {},
   "source": [
    "# A3 - Regresiones Logísticas"
   ]
  },
  {
   "cell_type": "markdown",
   "id": "8f509a54",
   "metadata": {},
   "source": [
    "## Instrucciones\n",
    "\n",
    "1. Para el dataset adjunto realice una regresión logística para predecir (en base a sus características) si un dulce es un CHOCOLATE o no y obtener el porcentaje de exactitud/error de predicción.\n",
    "2. Llevar a cabo un proceso de validación cruzada para verificar si los resultados obtenidos son independientes de las posibles particiones (entrenamiento/validación) del conjunto de datos."
   ]
  },
  {
   "cell_type": "markdown",
   "id": "3a49605e",
   "metadata": {},
   "source": [
    "## Dataset\n",
    "\n",
    "El archivo CSV adjunto contiene información relacionada con distintos dulces populares para la temporada de Halloween. El dataset involucra variables tanto numéricas como binarias, incluyendo las siguientes:\n",
    "\n",
    "**BINARIAS (Donde un '1' indica 'SI' y un '0' indica 'NO')**\n",
    "\n",
    "- chocolate: (¿Contiene chocolate?)\n",
    "- fruity: (¿Tiene sabor a frutas?)\n",
    "- caramel: (¿El dulce contiene caramelo?)\n",
    "- peanutalmondy: (¿Contiene cacahuate, crema de cacahuate o almendras?)\n",
    "- nougat: (¿Contiene nougat?)\n",
    "- crispedricewafer: (¿Tiene componentes como arroz inflado, galleta wafle u otro tipo de galleta?)\n",
    "- hard: (¿Es dulce duro?)\n",
    "- bar: (¿La presentación del dulce es en barra?)\n",
    "- pluribus: (¿El dulce viene empacado en una bolsa/paquete junto con otros dulces diferentes?)\n",
    "\n",
    "**NUMÉRICAS**\n",
    "\n",
    "- sugarpercent (percentil de azúcar)\n",
    "- pricepercent: (percentil de precio unitario)\n",
    "- winpercent: (porcentaje de preferencia de acuerdo con 269,000 comparaciones con otros dulces del dataset)."
   ]
  },
  {
   "cell_type": "markdown",
   "id": "71fd49ed",
   "metadata": {},
   "source": [
    "### Librerias"
   ]
  },
  {
   "cell_type": "code",
   "execution_count": 1,
   "id": "a8885734",
   "metadata": {},
   "outputs": [],
   "source": [
    "import pandas as pd\n",
    "import numpy as np\n",
    "from sklearn.model_selection import train_test_split, cross_val_score\n",
    "from sklearn.linear_model import LogisticRegression"
   ]
  },
  {
   "cell_type": "markdown",
   "id": "84aa4631",
   "metadata": {},
   "source": [
    "### Cargar dataset"
   ]
  },
  {
   "cell_type": "code",
   "execution_count": 2,
   "id": "957b2f50",
   "metadata": {},
   "outputs": [
    {
     "data": {
      "text/html": [
       "<div>\n",
       "<style scoped>\n",
       "    .dataframe tbody tr th:only-of-type {\n",
       "        vertical-align: middle;\n",
       "    }\n",
       "\n",
       "    .dataframe tbody tr th {\n",
       "        vertical-align: top;\n",
       "    }\n",
       "\n",
       "    .dataframe thead th {\n",
       "        text-align: right;\n",
       "    }\n",
       "</style>\n",
       "<table border=\"1\" class=\"dataframe\">\n",
       "  <thead>\n",
       "    <tr style=\"text-align: right;\">\n",
       "      <th></th>\n",
       "      <th>competitorname</th>\n",
       "      <th>chocolate</th>\n",
       "      <th>fruity</th>\n",
       "      <th>caramel</th>\n",
       "      <th>peanutyalmondy</th>\n",
       "      <th>nougat</th>\n",
       "      <th>crispedricewafer</th>\n",
       "      <th>hard</th>\n",
       "      <th>bar</th>\n",
       "      <th>pluribus</th>\n",
       "      <th>sugarpercent</th>\n",
       "      <th>pricepercent</th>\n",
       "      <th>winpercent</th>\n",
       "    </tr>\n",
       "  </thead>\n",
       "  <tbody>\n",
       "    <tr>\n",
       "      <th>0</th>\n",
       "      <td>100 Grand</td>\n",
       "      <td>1</td>\n",
       "      <td>0</td>\n",
       "      <td>1</td>\n",
       "      <td>0</td>\n",
       "      <td>0</td>\n",
       "      <td>1</td>\n",
       "      <td>0</td>\n",
       "      <td>1</td>\n",
       "      <td>0</td>\n",
       "      <td>0.732</td>\n",
       "      <td>0.860</td>\n",
       "      <td>66.971725</td>\n",
       "    </tr>\n",
       "    <tr>\n",
       "      <th>1</th>\n",
       "      <td>3 Musketeers</td>\n",
       "      <td>1</td>\n",
       "      <td>0</td>\n",
       "      <td>0</td>\n",
       "      <td>0</td>\n",
       "      <td>1</td>\n",
       "      <td>0</td>\n",
       "      <td>0</td>\n",
       "      <td>1</td>\n",
       "      <td>0</td>\n",
       "      <td>0.604</td>\n",
       "      <td>0.511</td>\n",
       "      <td>67.602936</td>\n",
       "    </tr>\n",
       "    <tr>\n",
       "      <th>2</th>\n",
       "      <td>One dime</td>\n",
       "      <td>0</td>\n",
       "      <td>0</td>\n",
       "      <td>0</td>\n",
       "      <td>0</td>\n",
       "      <td>0</td>\n",
       "      <td>0</td>\n",
       "      <td>0</td>\n",
       "      <td>0</td>\n",
       "      <td>0</td>\n",
       "      <td>0.011</td>\n",
       "      <td>0.116</td>\n",
       "      <td>32.261086</td>\n",
       "    </tr>\n",
       "    <tr>\n",
       "      <th>3</th>\n",
       "      <td>One quarter</td>\n",
       "      <td>0</td>\n",
       "      <td>0</td>\n",
       "      <td>0</td>\n",
       "      <td>0</td>\n",
       "      <td>0</td>\n",
       "      <td>0</td>\n",
       "      <td>0</td>\n",
       "      <td>0</td>\n",
       "      <td>0</td>\n",
       "      <td>0.011</td>\n",
       "      <td>0.511</td>\n",
       "      <td>46.116505</td>\n",
       "    </tr>\n",
       "    <tr>\n",
       "      <th>4</th>\n",
       "      <td>Air Heads</td>\n",
       "      <td>0</td>\n",
       "      <td>1</td>\n",
       "      <td>0</td>\n",
       "      <td>0</td>\n",
       "      <td>0</td>\n",
       "      <td>0</td>\n",
       "      <td>0</td>\n",
       "      <td>0</td>\n",
       "      <td>0</td>\n",
       "      <td>0.906</td>\n",
       "      <td>0.511</td>\n",
       "      <td>52.341465</td>\n",
       "    </tr>\n",
       "    <tr>\n",
       "      <th>...</th>\n",
       "      <td>...</td>\n",
       "      <td>...</td>\n",
       "      <td>...</td>\n",
       "      <td>...</td>\n",
       "      <td>...</td>\n",
       "      <td>...</td>\n",
       "      <td>...</td>\n",
       "      <td>...</td>\n",
       "      <td>...</td>\n",
       "      <td>...</td>\n",
       "      <td>...</td>\n",
       "      <td>...</td>\n",
       "      <td>...</td>\n",
       "    </tr>\n",
       "    <tr>\n",
       "      <th>80</th>\n",
       "      <td>Twizzlers</td>\n",
       "      <td>0</td>\n",
       "      <td>1</td>\n",
       "      <td>0</td>\n",
       "      <td>0</td>\n",
       "      <td>0</td>\n",
       "      <td>0</td>\n",
       "      <td>0</td>\n",
       "      <td>0</td>\n",
       "      <td>0</td>\n",
       "      <td>0.220</td>\n",
       "      <td>0.116</td>\n",
       "      <td>45.466282</td>\n",
       "    </tr>\n",
       "    <tr>\n",
       "      <th>81</th>\n",
       "      <td>Warheads</td>\n",
       "      <td>0</td>\n",
       "      <td>1</td>\n",
       "      <td>0</td>\n",
       "      <td>0</td>\n",
       "      <td>0</td>\n",
       "      <td>0</td>\n",
       "      <td>1</td>\n",
       "      <td>0</td>\n",
       "      <td>0</td>\n",
       "      <td>0.093</td>\n",
       "      <td>0.116</td>\n",
       "      <td>39.011898</td>\n",
       "    </tr>\n",
       "    <tr>\n",
       "      <th>82</th>\n",
       "      <td>WelchÕs Fruit Snacks</td>\n",
       "      <td>0</td>\n",
       "      <td>1</td>\n",
       "      <td>0</td>\n",
       "      <td>0</td>\n",
       "      <td>0</td>\n",
       "      <td>0</td>\n",
       "      <td>0</td>\n",
       "      <td>0</td>\n",
       "      <td>1</td>\n",
       "      <td>0.313</td>\n",
       "      <td>0.313</td>\n",
       "      <td>44.375519</td>\n",
       "    </tr>\n",
       "    <tr>\n",
       "      <th>83</th>\n",
       "      <td>WertherÕs Original Caramel</td>\n",
       "      <td>0</td>\n",
       "      <td>0</td>\n",
       "      <td>1</td>\n",
       "      <td>0</td>\n",
       "      <td>0</td>\n",
       "      <td>0</td>\n",
       "      <td>1</td>\n",
       "      <td>0</td>\n",
       "      <td>0</td>\n",
       "      <td>0.186</td>\n",
       "      <td>0.267</td>\n",
       "      <td>41.904308</td>\n",
       "    </tr>\n",
       "    <tr>\n",
       "      <th>84</th>\n",
       "      <td>Whoppers</td>\n",
       "      <td>1</td>\n",
       "      <td>0</td>\n",
       "      <td>0</td>\n",
       "      <td>0</td>\n",
       "      <td>0</td>\n",
       "      <td>1</td>\n",
       "      <td>0</td>\n",
       "      <td>0</td>\n",
       "      <td>1</td>\n",
       "      <td>0.872</td>\n",
       "      <td>0.848</td>\n",
       "      <td>49.524113</td>\n",
       "    </tr>\n",
       "  </tbody>\n",
       "</table>\n",
       "<p>85 rows × 13 columns</p>\n",
       "</div>"
      ],
      "text/plain": [
       "                competitorname  chocolate  fruity  caramel  peanutyalmondy  \\\n",
       "0                    100 Grand          1       0        1               0   \n",
       "1                 3 Musketeers          1       0        0               0   \n",
       "2                     One dime          0       0        0               0   \n",
       "3                  One quarter          0       0        0               0   \n",
       "4                    Air Heads          0       1        0               0   \n",
       "..                         ...        ...     ...      ...             ...   \n",
       "80                   Twizzlers          0       1        0               0   \n",
       "81                    Warheads          0       1        0               0   \n",
       "82        WelchÕs Fruit Snacks          0       1        0               0   \n",
       "83  WertherÕs Original Caramel          0       0        1               0   \n",
       "84                    Whoppers          1       0        0               0   \n",
       "\n",
       "    nougat  crispedricewafer  hard  bar  pluribus  sugarpercent  pricepercent  \\\n",
       "0        0                 1     0    1         0         0.732         0.860   \n",
       "1        1                 0     0    1         0         0.604         0.511   \n",
       "2        0                 0     0    0         0         0.011         0.116   \n",
       "3        0                 0     0    0         0         0.011         0.511   \n",
       "4        0                 0     0    0         0         0.906         0.511   \n",
       "..     ...               ...   ...  ...       ...           ...           ...   \n",
       "80       0                 0     0    0         0         0.220         0.116   \n",
       "81       0                 0     1    0         0         0.093         0.116   \n",
       "82       0                 0     0    0         1         0.313         0.313   \n",
       "83       0                 0     1    0         0         0.186         0.267   \n",
       "84       0                 1     0    0         1         0.872         0.848   \n",
       "\n",
       "    winpercent  \n",
       "0    66.971725  \n",
       "1    67.602936  \n",
       "2    32.261086  \n",
       "3    46.116505  \n",
       "4    52.341465  \n",
       "..         ...  \n",
       "80   45.466282  \n",
       "81   39.011898  \n",
       "82   44.375519  \n",
       "83   41.904308  \n",
       "84   49.524113  \n",
       "\n",
       "[85 rows x 13 columns]"
      ]
     },
     "execution_count": 2,
     "metadata": {},
     "output_type": "execute_result"
    }
   ],
   "source": [
    "df = pd.read_csv('data/candy-data.csv')\n",
    "df"
   ]
  },
  {
   "cell_type": "markdown",
   "id": "b844edb4",
   "metadata": {},
   "source": [
    "### Dividir datos en conjunto de entrenamiento y prueba"
   ]
  },
  {
   "cell_type": "code",
   "execution_count": 3,
   "id": "3275df06",
   "metadata": {},
   "outputs": [],
   "source": [
    "Y_df = df['chocolate']\n",
    "X_df = df.drop(columns=['chocolate', 'competitorname', 'winpercent'])"
   ]
  },
  {
   "cell_type": "code",
   "execution_count": 4,
   "id": "07b0037d",
   "metadata": {},
   "outputs": [],
   "source": [
    "x_train, x_test, y_train, y_test = train_test_split(X_df, Y_df, test_size=0.3)"
   ]
  },
  {
   "cell_type": "markdown",
   "id": "54d983b8",
   "metadata": {},
   "source": [
    "### Realizar regresión logística"
   ]
  },
  {
   "cell_type": "code",
   "execution_count": 5,
   "id": "ffc91cc6",
   "metadata": {},
   "outputs": [],
   "source": [
    "lm  = LogisticRegression()\n",
    "lm.fit(x_train, y_train)\n",
    "accuracy_train = lm.score(x_train, y_train)\n",
    "accuracy_test = lm.score(x_test, y_test)"
   ]
  },
  {
   "cell_type": "markdown",
   "id": "215eb44c",
   "metadata": {},
   "source": [
    "### Realizar validación cruzada"
   ]
  },
  {
   "cell_type": "code",
   "execution_count": 6,
   "id": "3271bee1",
   "metadata": {},
   "outputs": [],
   "source": [
    "scores = cross_val_score(lm, x_train, y_train, cv=5)\n",
    "acc = scores\n",
    "acc_mean = np.mean(acc)\n",
    "Errors = 1 - scores\n",
    "Error_mean = np.mean(Errors)"
   ]
  },
  {
   "cell_type": "markdown",
   "id": "c23ae339",
   "metadata": {},
   "source": [
    "### Validación cruzada con datos de entrenamiento"
   ]
  },
  {
   "cell_type": "code",
   "execution_count": 7,
   "id": "86b1cedf",
   "metadata": {},
   "outputs": [
    {
     "name": "stdout",
     "output_type": "stream",
     "text": [
      "Resultados con datos de entrenamiento:\n",
      "Score del modelo: [0.66666667 0.75       0.83333333 0.91666667 0.90909091]\n",
      "Accuracy promedio: 0.8151515151515151\n",
      "Error promedio: 0.18484848484848487\n"
     ]
    }
   ],
   "source": [
    "print('Resultados con datos de entrenamiento:')\n",
    "print(f'Score del modelo: {scores}')\n",
    "print(f'Accuracy promedio: {acc_mean}')\n",
    "print(f'Error promedio: {Error_mean}')"
   ]
  },
  {
   "cell_type": "markdown",
   "id": "02e10b8a",
   "metadata": {},
   "source": [
    "### Validación cruzada con datos de prueba"
   ]
  },
  {
   "cell_type": "code",
   "execution_count": 8,
   "id": "c61dfd6d",
   "metadata": {},
   "outputs": [],
   "source": [
    "scores = cross_val_score(lm, x_test, y_test, cv=5)\n",
    "acc = scores\n",
    "acc_mean = np.mean(acc)\n",
    "Errors = 1 - scores\n",
    "Error_mean = np.mean(Errors)"
   ]
  },
  {
   "cell_type": "code",
   "execution_count": 9,
   "id": "33c1c8fb",
   "metadata": {},
   "outputs": [
    {
     "name": "stdout",
     "output_type": "stream",
     "text": [
      "Resultados con datos de prueba:\n",
      "Score del modelo: [0.66666667 1.         1.         0.8        1.        ]\n",
      "Accuracy promedio: 0.8933333333333333\n",
      "Error promedio: 0.10666666666666666\n"
     ]
    }
   ],
   "source": [
    "print('Resultados con datos de prueba:')\n",
    "print(f'Score del modelo: {scores}')\n",
    "print(f'Accuracy promedio: {acc_mean}')\n",
    "print(f'Error promedio: {Error_mean}')"
   ]
  },
  {
   "cell_type": "markdown",
   "id": "4113bb3f",
   "metadata": {},
   "source": [
    "### Validación cruzada con todos los datos"
   ]
  },
  {
   "cell_type": "code",
   "execution_count": 10,
   "id": "850181c7",
   "metadata": {},
   "outputs": [],
   "source": [
    "scores = cross_val_score(lm, X_df, Y_df, cv=5)\n",
    "acc = scores\n",
    "acc_mean = np.mean(acc)\n",
    "Errors = 1 - scores\n",
    "Error_mean = np.mean(Errors)"
   ]
  },
  {
   "cell_type": "code",
   "execution_count": 11,
   "id": "945192aa",
   "metadata": {},
   "outputs": [
    {
     "name": "stdout",
     "output_type": "stream",
     "text": [
      "Resultados con todos los datos:\n",
      "Score del modelo: [0.70588235 0.88235294 0.94117647 0.94117647 0.70588235]\n",
      "Accuracy promedio: 0.8352941176470589\n",
      "Error promedio: 0.16470588235294117\n"
     ]
    }
   ],
   "source": [
    "print('Resultados con todos los datos:')\n",
    "print(f'Score del modelo: {scores}')\n",
    "print(f'Accuracy promedio: {acc_mean}')\n",
    "print(f'Error promedio: {Error_mean}')"
   ]
  }
 ],
 "metadata": {
  "kernelspec": {
   "display_name": "data",
   "language": "python",
   "name": "python3"
  },
  "language_info": {
   "codemirror_mode": {
    "name": "ipython",
    "version": 3
   },
   "file_extension": ".py",
   "mimetype": "text/x-python",
   "name": "python",
   "nbconvert_exporter": "python",
   "pygments_lexer": "ipython3",
   "version": "3.12.12"
  }
 },
 "nbformat": 4,
 "nbformat_minor": 5
}
